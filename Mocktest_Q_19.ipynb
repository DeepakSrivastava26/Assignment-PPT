{
  "nbformat": 4,
  "nbformat_minor": 0,
  "metadata": {
    "colab": {
      "provenance": []
    },
    "kernelspec": {
      "name": "python3",
      "display_name": "Python 3"
    },
    "language_info": {
      "name": "python"
    }
  },
  "cells": [
    {
      "cell_type": "code",
      "execution_count": 2,
      "metadata": {
        "colab": {
          "base_uri": "https://localhost:8080/"
        },
        "id": "EjXUFLzYD6h3",
        "outputId": "35bb4533-acae-4dbe-a06e-17576300fa64"
      },
      "outputs": [
        {
          "output_type": "stream",
          "name": "stdout",
          "text": [
            "Mean: 20.0\n"
          ]
        }
      ],
      "source": [
        "def calc_mean(numbers):\n",
        "  return sum(numbers)/len(numbers)\n",
        "numbers= [10, 15, 20, 25, 30]\n",
        "mean_value = calc_mean(numbers)\n",
        "print(\"Mean:\", mean_value)\n"
      ]
    }
  ]
}