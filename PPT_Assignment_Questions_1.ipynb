{
  "nbformat": 4,
  "nbformat_minor": 0,
  "metadata": {
    "colab": {
      "provenance": []
    },
    "kernelspec": {
      "name": "python3",
      "display_name": "Python 3"
    },
    "language_info": {
      "name": "python"
    }
  },
  "cells": [
    {
      "cell_type": "markdown",
      "source": [
        "**Ques 1**"
      ],
      "metadata": {
        "id": "10uwNUlnT-k-"
      }
    },
    {
      "cell_type": "code",
      "execution_count": null,
      "metadata": {
        "colab": {
          "base_uri": "https://localhost:8080/"
        },
        "id": "_5tJeyFbT1pF",
        "outputId": "7b216f8c-6bbc-44d6-880d-d3444efb83d9"
      },
      "outputs": [
        {
          "output_type": "stream",
          "name": "stdout",
          "text": [
            "[0, 1]\n"
          ]
        }
      ],
      "source": [
        "def twoSum(nums, target):\n",
        "    # Create a dictionary to store the complement of each number and its index\n",
        "    complement_dict = {}\n",
        "\n",
        "    # Iterate through the array\n",
        "    for i, num in enumerate(nums):\n",
        "        complement = target - num\n",
        "\n",
        "        # If the complement exists in the dictionary, we found the pair\n",
        "        if complement in complement_dict:\n",
        "            return [complement_dict[complement], i]\n",
        "\n",
        "        # Store the current number and its index in the dictionary\n",
        "        complement_dict[num] = i\n",
        "\n",
        "    # If no pair is found, return an empty list\n",
        "    return []\n",
        "\n",
        "# Example usage\n",
        "nums = [2, 7, 11, 15]\n",
        "target = 9\n",
        "result = twoSum(nums, target)\n",
        "print(result)\n"
      ]
    },
    {
      "cell_type": "markdown",
      "source": [
        "**Ques 2**"
      ],
      "metadata": {
        "id": "y3upMvtkVeNz"
      }
    },
    {
      "cell_type": "code",
      "source": [
        "def removeElement(nums, val):\n",
        "    # Initialize two pointers: one for iterating the array and another for inserting non-val elements\n",
        "    i = 0\n",
        "    k = 0  # Represents the number of elements not equal to val\n",
        "\n",
        "    # Iterate through the array\n",
        "    while i < len(nums):\n",
        "        if nums[i] != val:\n",
        "            # If the current element is not equal to val, insert it at the kth position\n",
        "            nums[k] = nums[i]\n",
        "            k += 1\n",
        "        i += 1\n",
        "\n",
        "    return k\n",
        "\n",
        "# Example usage\n",
        "nums = [3, 2, 2, 3]\n",
        "val = 3\n",
        "k = removeElement(nums, val)\n",
        "print(\"k =\", k)\n",
        "print(\"nums =\", nums[:k] + ['_'] * (len(nums) - k))\n"
      ],
      "metadata": {
        "id": "ZxrE7YCkVhpk"
      },
      "execution_count": null,
      "outputs": []
    },
    {
      "cell_type": "markdown",
      "source": [
        "**Ques 3**"
      ],
      "metadata": {
        "id": "HyupFQ7NViY4"
      }
    },
    {
      "cell_type": "code",
      "source": [
        "def searchInsert(nums, target):\n",
        "    left = 0\n",
        "    right = len(nums) - 1\n",
        "\n",
        "    while left <= right:\n",
        "        mid = (left + right) // 2\n",
        "\n",
        "        if nums[mid] == target:\n",
        "            return mid\n",
        "        elif nums[mid] < target:\n",
        "            left = mid + 1\n",
        "        else:\n",
        "            right = mid - 1\n",
        "\n",
        "    # If the target is not found, return the index where it would be inserted\n",
        "    return left\n",
        "\n",
        "# Example usage\n",
        "nums = [1, 3, 5, 6]\n",
        "target = 5\n",
        "index = searchInsert(nums, target)\n",
        "print(index)\n"
      ],
      "metadata": {
        "id": "rjK8_5KHWD5J"
      },
      "execution_count": null,
      "outputs": []
    },
    {
      "cell_type": "markdown",
      "source": [
        "**Ques 4**"
      ],
      "metadata": {
        "id": "VWhZQL94WGxu"
      }
    },
    {
      "cell_type": "code",
      "source": [
        "def plusOne(digits):\n",
        "    n = len(digits)\n",
        "    carry = 1\n",
        "\n",
        "    for i in range(n - 1, -1, -1):\n",
        "        digits[i] += carry\n",
        "        carry = digits[i] // 10\n",
        "        digits[i] %= 10\n",
        "\n",
        "    if carry == 1:\n",
        "        digits.insert(0, 1)\n",
        "\n",
        "    return digits\n",
        "\n",
        "# Example usage\n",
        "digits = [1, 2, 3]\n",
        "result = plusOne(digits)\n",
        "print(result)\n"
      ],
      "metadata": {
        "id": "Z4DnISfZyE9q"
      },
      "execution_count": null,
      "outputs": []
    },
    {
      "cell_type": "markdown",
      "source": [
        "**Ques 5**"
      ],
      "metadata": {
        "id": "_MJ2EyDpx5aA"
      }
    },
    {
      "cell_type": "code",
      "source": [
        "def merge(nums1, m, nums2, n):\n",
        "    p1 = m - 1  # Pointer for nums1\n",
        "    p2 = n - 1  # Pointer for nums2\n",
        "    p = m + n - 1  # Pointer for the merged array\n",
        "\n",
        "    while p1 >= 0 and p2 >= 0:\n",
        "        if nums1[p1] <= nums2[p2]:\n",
        "            nums1[p] = nums2[p2]\n",
        "            p2 -= 1\n",
        "        else:\n",
        "            nums1[p] = nums1[p1]\n",
        "            p1 -= 1\n",
        "        p -= 1\n",
        "\n",
        "    # If there are remaining elements in nums2, copy them to nums1\n",
        "    nums1[:p2 + 1] = nums2[:p2 + 1]\n",
        "\n",
        "# Example usage\n",
        "nums1 = [1, 2, 3, 0, 0, 0]\n",
        "m = 3\n",
        "nums2 = [2, 5, 6]\n",
        "n = 3\n",
        "\n",
        "merge(nums1, m, nums2, n)\n",
        "print(nums1)\n"
      ],
      "metadata": {
        "id": "rt68JCl-yaKA"
      },
      "execution_count": null,
      "outputs": []
    },
    {
      "cell_type": "markdown",
      "source": [
        "**Ques 6**"
      ],
      "metadata": {
        "id": "lZAMuEZAx_st"
      }
    },
    {
      "cell_type": "code",
      "source": [
        "def containsDuplicate(nums):\n",
        "    num_set = set()\n",
        "\n",
        "    for num in nums:\n",
        "        if num in num_set:\n",
        "            return True\n",
        "        num_set.add(num)\n",
        "\n",
        "    return False\n",
        "\n",
        "# Example usage\n",
        "nums = [1, 2, 3, 1]\n",
        "result = containsDuplicate(nums)\n",
        "print(result)\n"
      ],
      "metadata": {
        "colab": {
          "base_uri": "https://localhost:8080/"
        },
        "id": "I49Z7iuqyuY0",
        "outputId": "1cf4a3a9-4801-44f1-9cce-19f4fd08d85f"
      },
      "execution_count": null,
      "outputs": [
        {
          "output_type": "stream",
          "name": "stdout",
          "text": [
            "True\n"
          ]
        }
      ]
    },
    {
      "cell_type": "markdown",
      "source": [
        "**Ques 7**"
      ],
      "metadata": {
        "id": "1S2X4EHOyBud"
      }
    },
    {
      "cell_type": "code",
      "source": [
        "def moveZeroes(nums):\n",
        "    left = 0  # Pointer for iterating through the array\n",
        "    right = 0  # Pointer for placing non-zero elements\n",
        "\n",
        "    while left < len(nums):\n",
        "        if nums[left] != 0:\n",
        "            # If the current element is non-zero, move it to the correct position\n",
        "            nums[right] = nums[left]\n",
        "            right += 1\n",
        "        left += 1\n",
        "\n",
        "    # Fill the remaining positions with zeros\n",
        "    nums[right:] = [0] * (len(nums) - right)\n",
        "\n",
        "# Example usage\n",
        "nums = [0, 1, 0, 3, 12]\n",
        "moveZeroes(nums)\n",
        "print(nums)\n"
      ],
      "metadata": {
        "id": "m4iLWBiIy4Ly"
      },
      "execution_count": null,
      "outputs": []
    },
    {
      "cell_type": "markdown",
      "source": [
        "**Ques 8**"
      ],
      "metadata": {
        "id": "h9XRlN-dyDC3"
      }
    },
    {
      "cell_type": "code",
      "source": [
        "def findErrorNums(nums):\n",
        "    numSet = set()\n",
        "    duplicate = -1\n",
        "    missing = -1\n",
        "\n",
        "    for num in nums:\n",
        "        if num not in numSet:\n",
        "            numSet.add(num)\n",
        "        else:\n",
        "            duplicate = num\n",
        "\n",
        "    for i in range(1, len(nums) + 1):\n",
        "        if i not in numSet:\n",
        "            missing = i\n",
        "            break\n",
        "\n",
        "    return [duplicate, missing]\n",
        "\n",
        "# Example usage\n",
        "nums = [1, 2, 2, 4]\n",
        "result = findErrorNums(nums)\n",
        "print(result)\n"
      ],
      "metadata": {
        "colab": {
          "base_uri": "https://localhost:8080/"
        },
        "id": "5hZMCX80y5ma",
        "outputId": "4227f5a1-c6fe-4973-fe6c-3c1ec847f9fd"
      },
      "execution_count": null,
      "outputs": [
        {
          "output_type": "stream",
          "name": "stdout",
          "text": [
            "[2, 3]\n"
          ]
        }
      ]
    }
  ]
}