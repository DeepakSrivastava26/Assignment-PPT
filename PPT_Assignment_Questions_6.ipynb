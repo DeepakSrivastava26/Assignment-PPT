{
  "nbformat": 4,
  "nbformat_minor": 0,
  "metadata": {
    "colab": {
      "provenance": []
    },
    "kernelspec": {
      "name": "python3",
      "display_name": "Python 3"
    },
    "language_info": {
      "name": "python"
    }
  },
  "cells": [
    {
      "cell_type": "markdown",
      "source": [
        "**Ques 1**"
      ],
      "metadata": {
        "id": "4T7_ADjQ0LjD"
      }
    },
    {
      "cell_type": "code",
      "execution_count": 1,
      "metadata": {
        "id": "cBnmedid0Jh3"
      },
      "outputs": [],
      "source": [
        "def reconstruct_permutation(s):\n",
        "    n = len(s)\n",
        "    perm = [0] * (n + 1)\n",
        "    low, high = 0, n\n",
        "\n",
        "    for i, ch in enumerate(s):\n",
        "        if ch == 'I':\n",
        "            perm[i] = low\n",
        "            low += 1\n",
        "        else:\n",
        "            perm[i] = high\n",
        "            high -= 1\n",
        "\n",
        "    perm[n] = low\n",
        "\n",
        "    return perm\n"
      ]
    },
    {
      "cell_type": "markdown",
      "source": [
        "**Ques 2**"
      ],
      "metadata": {
        "id": "njvlbTsI2SXx"
      }
    },
    {
      "cell_type": "code",
      "source": [
        "def searchMatrix(matrix, target):\n",
        "    if not matrix or not matrix[0]:\n",
        "        return False\n",
        "\n",
        "    m, n = len(matrix), len(matrix[0])\n",
        "    left, right = 0, m * n - 1\n",
        "\n",
        "    while left <= right:\n",
        "        mid = left + (right - left) // 2\n",
        "        mid_element = matrix[mid // n][mid % n]\n",
        "\n",
        "        if mid_element == target:\n",
        "            return True\n",
        "        elif mid_element < target:\n",
        "            left = mid + 1\n",
        "        else:\n",
        "            right = mid - 1\n",
        "\n",
        "    return False\n"
      ],
      "metadata": {
        "id": "x_J-G31f2T_O"
      },
      "execution_count": 2,
      "outputs": []
    },
    {
      "cell_type": "markdown",
      "source": [
        "**Ques 3**"
      ],
      "metadata": {
        "id": "0NaEGAi92mBS"
      }
    },
    {
      "cell_type": "code",
      "source": [
        "def validMountainArray(arr):\n",
        "    n = len(arr)\n",
        "    if n < 3:\n",
        "        return False\n",
        "\n",
        "    left, right = 0, n - 1\n",
        "\n",
        "    while left < n - 1 and arr[left] < arr[left+1]:\n",
        "        left += 1\n",
        "\n",
        "    while right > 0 and arr[right] < arr[right-1]:\n",
        "        right -= 1\n",
        "\n",
        "    return left > 0 and right < n - 1 and left == right\n"
      ],
      "metadata": {
        "id": "QXiNPKyL2n32"
      },
      "execution_count": 3,
      "outputs": []
    },
    {
      "cell_type": "markdown",
      "source": [
        "**Ques 4**"
      ],
      "metadata": {
        "id": "OVkQAjqe2-_N"
      }
    },
    {
      "cell_type": "code",
      "source": [
        "def findMaxLength(nums):\n",
        "    max_length = 0\n",
        "    prefix_sums = {0: -1}\n",
        "    count = 0\n",
        "\n",
        "    for i in range(len(nums)):\n",
        "        count += 1 if nums[i] == 1 else -1\n",
        "\n",
        "        if count in prefix_sums:\n",
        "            length = i - prefix_sums[count]\n",
        "            max_length = max(max_length, length)\n",
        "        else:\n",
        "            prefix_sums[count] = i\n",
        "\n",
        "    return max_length\n"
      ],
      "metadata": {
        "id": "SNAvK1nC3A4Y"
      },
      "execution_count": 4,
      "outputs": []
    },
    {
      "cell_type": "markdown",
      "source": [
        "**Ques 5**"
      ],
      "metadata": {
        "id": "ef-6thOW3cfZ"
      }
    },
    {
      "cell_type": "code",
      "source": [
        "def minProductSum(nums1, nums2):\n",
        "    nums1.sort()\n",
        "    nums2.sort()\n",
        "    n = len(nums1)\n",
        "    min_product_sum = 0\n",
        "\n",
        "    for i in range(n):\n",
        "        min_product_sum += nums1[i] * nums2[n-1-i]\n",
        "\n",
        "    return min_product_sum\n"
      ],
      "metadata": {
        "id": "PErSI40w3eRb"
      },
      "execution_count": 5,
      "outputs": []
    },
    {
      "cell_type": "markdown",
      "source": [
        "**Ques 6**"
      ],
      "metadata": {
        "id": "yxVs4Lpy3zWw"
      }
    },
    {
      "cell_type": "code",
      "source": [
        "from collections import Counter\n",
        "\n",
        "def findOriginalArray(changed):\n",
        "    count = Counter(changed)\n",
        "    original = []\n",
        "\n",
        "    for num in changed:\n",
        "        if count[num] == 0:\n",
        "            continue\n",
        "\n",
        "        if 2 * num not in count or count[2 * num] == 0:\n",
        "            return []\n",
        "\n",
        "        original.append(num)\n",
        "        count[num] -= 1\n",
        "        count[2 * num] -= 1\n",
        "\n",
        "        if count[num] == 0:\n",
        "            del count[num]\n",
        "\n",
        "    return original\n"
      ],
      "metadata": {
        "id": "CbTtCo6532HX"
      },
      "execution_count": 6,
      "outputs": []
    },
    {
      "cell_type": "markdown",
      "source": [
        "**Ques 7**"
      ],
      "metadata": {
        "id": "4I6KTB6L4cTQ"
      }
    },
    {
      "cell_type": "code",
      "source": [
        "def generateMatrix(n):\n",
        "    matrix = [[0] * n for _ in range(n)]\n",
        "    row_start, row_end = 0, n - 1\n",
        "    col_start, col_end = 0, n - 1\n",
        "    num = 1\n",
        "\n",
        "    while row_start <= row_end and col_start <= col_end:\n",
        "        for i in range(col_start, col_end + 1):\n",
        "            matrix[row_start][i] = num\n",
        "            num += 1\n",
        "        row_start += 1\n",
        "\n",
        "        for i in range(row_start, row_end + 1):\n",
        "            matrix[i][col_end] = num\n",
        "            num += 1\n",
        "        col_end -= 1\n",
        "\n",
        "        if row_start <= row_end:\n",
        "            for i in range(col_end, col_start - 1, -1):\n",
        "                matrix[row_end][i] = num\n",
        "                num += 1\n",
        "            row_end -= 1\n",
        "\n",
        "        if col_start <= col_end:\n",
        "            for i in range(row_end, row_start - 1, -1):\n",
        "                matrix[i][col_start] = num\n",
        "                num += 1\n",
        "            col_start += 1\n",
        "\n",
        "    return matrix\n"
      ],
      "metadata": {
        "id": "KJu6TqCM4gO5"
      },
      "execution_count": 7,
      "outputs": []
    },
    {
      "cell_type": "markdown",
      "source": [
        "**Ques 8**"
      ],
      "metadata": {
        "id": "w0rIBl435AmL"
      }
    },
    {
      "cell_type": "code",
      "source": [
        "def multiply(mat1, mat2):\n",
        "    m, k, n = len(mat1), len(mat1[0]), len(mat2[0])\n",
        "    result = [[0] * n for _ in range(m)]\n",
        "    sparse_mat1 = {}\n",
        "    sparse_mat2 = {}\n",
        "\n",
        "    # Create sparse matrix representations\n",
        "    for i in range(m):\n",
        "        for j in range(k):\n",
        "            if mat1[i][j] != 0:\n",
        "                if i in sparse_mat1:\n",
        "                    sparse_mat1[i][j] = mat1[i][j]\n",
        "                else:\n",
        "                    sparse_mat1[i] = {j: mat1[i][j]}\n",
        "\n",
        "    for j in range(k):\n",
        "        for i in range(n):\n",
        "            if mat2[j][i] != 0:\n",
        "                if j in sparse_mat2:\n",
        "                    sparse_mat2[j][i] = mat2[j][i]\n",
        "                else:\n",
        "                    sparse_mat2[j] = {i: mat2[j][i]}\n",
        "\n",
        "    # Perform matrix multiplication\n",
        "    for i, row in sparse_mat1.items():\n",
        "        for j, val1 in row.items():\n",
        "            if j in sparse_mat2:\n",
        "                for k, val2 in sparse_mat2[j].items():\n",
        "                    result[i][k] += val1 * val2\n",
        "\n",
        "    return result\n"
      ],
      "metadata": {
        "id": "Y76WIifF5ECN"
      },
      "execution_count": 8,
      "outputs": []
    }
  ]
}