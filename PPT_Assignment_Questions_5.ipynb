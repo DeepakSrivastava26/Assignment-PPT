{
  "nbformat": 4,
  "nbformat_minor": 0,
  "metadata": {
    "colab": {
      "provenance": []
    },
    "kernelspec": {
      "name": "python3",
      "display_name": "Python 3"
    },
    "language_info": {
      "name": "python"
    }
  },
  "cells": [
    {
      "cell_type": "markdown",
      "source": [
        "**Ques 1**"
      ],
      "metadata": {
        "id": "4T7_ADjQ0LjD"
      }
    },
    {
      "cell_type": "code",
      "execution_count": 1,
      "metadata": {
        "colab": {
          "base_uri": "https://localhost:8080/"
        },
        "id": "cBnmedid0Jh3",
        "outputId": "c057af2d-495d-44a8-ad1f-82b936205609"
      },
      "outputs": [
        {
          "output_type": "stream",
          "name": "stdout",
          "text": [
            "[[1, 2, 3], [4, 5, 6]]\n"
          ]
        }
      ],
      "source": [
        "def convert_to_2d_array(original, m, n):\n",
        "    if len(original) != m * n:\n",
        "        return []\n",
        "\n",
        "    result = [[0] * n for _ in range(m)]\n",
        "    for i in range(len(original)):\n",
        "        row = i // n\n",
        "        col = i % n\n",
        "        result[row][col] = original[i]\n",
        "\n",
        "    return result\n",
        "original = [1, 2, 3, 4, 5, 6]\n",
        "m = 2\n",
        "n = 3\n",
        "print(convert_to_2d_array(original, m, n))\n",
        "\n"
      ]
    },
    {
      "cell_type": "markdown",
      "source": [
        "**Ques 2**"
      ],
      "metadata": {
        "id": "njvlbTsI2SXx"
      }
    },
    {
      "cell_type": "code",
      "source": [
        "def complete_staircase_rows(n):\n",
        "    count = 0\n",
        "    k = 1\n",
        "    while n >= k:\n",
        "        n -= k\n",
        "        count += 1\n",
        "        k += 1\n",
        "    return count\n",
        "n = 15\n",
        "print(complete_staircase_rows(n))\n"
      ],
      "metadata": {
        "colab": {
          "base_uri": "https://localhost:8080/"
        },
        "id": "x_J-G31f2T_O",
        "outputId": "684d7722-f3ae-4629-e87b-8dc39c58f049"
      },
      "execution_count": 4,
      "outputs": [
        {
          "output_type": "stream",
          "name": "stdout",
          "text": [
            "[[1, 3], [4, 6]]\n"
          ]
        }
      ]
    },
    {
      "cell_type": "markdown",
      "source": [
        "**Ques 3**"
      ],
      "metadata": {
        "id": "0NaEGAi92mBS"
      }
    },
    {
      "cell_type": "code",
      "source": [
        "def sorted_squares(nums):\n",
        "    n = len(nums)\n",
        "    result = [0] * n\n",
        "    left = 0\n",
        "    right = n - 1\n",
        "    index = n - 1\n",
        "\n",
        "    while left <= right:\n",
        "        if abs(nums[left]) > abs(nums[right]):\n",
        "            result[index] = nums[left] ** 2\n",
        "            left += 1\n",
        "        else:\n",
        "            result[index] = nums[right] ** 2\n",
        "            right -= 1\n",
        "        index -= 1\n",
        "\n",
        "    return result\n",
        "nums = [-4, -1, 0, 3, 10]\n",
        "print(sorted_squares(nums))\n",
        "\n"
      ],
      "metadata": {
        "id": "QXiNPKyL2n32"
      },
      "execution_count": null,
      "outputs": []
    },
    {
      "cell_type": "markdown",
      "source": [
        "**Ques 4**"
      ],
      "metadata": {
        "id": "OVkQAjqe2-_N"
      }
    },
    {
      "cell_type": "code",
      "source": [
        "def find_missing_elements(nums1, nums2):\n",
        "    nums1_set = set(nums1)\n",
        "    nums2_set = set(nums2)\n",
        "\n",
        "    result_1 = [x for x in nums1 if x not in nums2_set]\n",
        "    result_2 = [x for x in nums2 if x not in nums1_set]\n",
        "\n",
        "    return [result_1, result_2]\n",
        "nums1 = [1, 2, 3]\n",
        "nums2 = [2, 4, 6]\n",
        "print(find_missing_elements(nums1, nums2))\n",
        "\n"
      ],
      "metadata": {
        "id": "SNAvK1nC3A4Y"
      },
      "execution_count": null,
      "outputs": []
    },
    {
      "cell_type": "markdown",
      "source": [
        "**Ques 5**"
      ],
      "metadata": {
        "id": "ef-6thOW3cfZ"
      }
    },
    {
      "cell_type": "code",
      "source": [
        "def distance_value(arr1, arr2, d):\n",
        "    count = 0\n",
        "    for num1 in arr1:\n",
        "        for num2 in arr2:\n",
        "            if abs(num1 - num2) <= d:\n",
        "                break\n",
        "        else:\n",
        "            count += 1\n",
        "\n",
        "    return count\n",
        "arr1 = [4, 5, 8]\n",
        "arr2 = [10, 9, 1, 8]\n",
        "d = 2\n",
        "print(distance_value(arr1, arr2, d))\n"
      ],
      "metadata": {
        "id": "PErSI40w3eRb"
      },
      "execution_count": null,
      "outputs": []
    },
    {
      "cell_type": "markdown",
      "source": [
        "**Ques 6**"
      ],
      "metadata": {
        "id": "yxVs4Lpy3zWw"
      }
    },
    {
      "cell_type": "code",
      "source": [
        "def find_duplicates(nums):\n",
        "    result = []\n",
        "    for num in nums:\n",
        "        index = abs(num) - 1\n",
        "        if nums[index] > 0:\n",
        "            nums[index] = -nums[index]\n",
        "        else:\n",
        "            result.append(abs(num))\n",
        "    return result\n",
        "nums = [4, 3, 2, 7, 8, 2, 3, 1]\n",
        "print(find_duplicates(nums))\n",
        "\n"
      ],
      "metadata": {
        "colab": {
          "base_uri": "https://localhost:8080/"
        },
        "id": "CbTtCo6532HX",
        "outputId": "34706737-41e4-4bac-bb14-002076df3f7c"
      },
      "execution_count": 2,
      "outputs": [
        {
          "output_type": "stream",
          "name": "stdout",
          "text": [
            "[2, 3]\n"
          ]
        }
      ]
    },
    {
      "cell_type": "markdown",
      "source": [
        "**Ques 7**"
      ],
      "metadata": {
        "id": "4I6KTB6L4cTQ"
      }
    },
    {
      "cell_type": "code",
      "source": [
        "def find_min(nums):\n",
        "    left = 0\n",
        "    right = len(nums) - 1\n",
        "\n",
        "    while left < right:\n",
        "        middle = (left + right) // 2\n",
        "\n",
        "        if nums[middle] > nums[right]:\n",
        "            left = middle + 1\n",
        "        else:\n",
        "            right = middle\n",
        "\n",
        "    return nums[left]\n",
        "nums = [3, 4, 5, 1, 2]\n",
        "print(find_min(nums))\n"
      ],
      "metadata": {
        "colab": {
          "base_uri": "https://localhost:8080/"
        },
        "id": "KJu6TqCM4gO5",
        "outputId": "1a297a1a-10f2-438d-d461-b4c9525d5e5f"
      },
      "execution_count": 2,
      "outputs": [
        {
          "output_type": "stream",
          "name": "stdout",
          "text": [
            "4\n"
          ]
        }
      ]
    },
    {
      "cell_type": "markdown",
      "source": [
        "**Ques 8**"
      ],
      "metadata": {
        "id": "w0rIBl435AmL"
      }
    },
    {
      "cell_type": "code",
      "source": [
        "def find_original_array(changed):\n",
        "    original_set = set()\n",
        "\n",
        "    for num in changed:\n",
        "        if num % 2 != 0 or num // 2 not in original_set:\n",
        "            return []\n",
        "        original_set.add(num // 2)\n",
        "\n",
        "    return list(original_set)\n",
        "changed = [1, 3, 4, 2, 6, 8]\n",
        "print(find_original_array(changed))\n"
      ],
      "metadata": {
        "id": "Y76WIifF5ECN"
      },
      "execution_count": null,
      "outputs": []
    }
  ]
}