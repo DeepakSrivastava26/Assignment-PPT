{
  "nbformat": 4,
  "nbformat_minor": 0,
  "metadata": {
    "colab": {
      "provenance": []
    },
    "kernelspec": {
      "name": "python3",
      "display_name": "Python 3"
    },
    "language_info": {
      "name": "python"
    }
  },
  "cells": [
    {
      "cell_type": "markdown",
      "source": [
        "**Ques 1**"
      ],
      "metadata": {
        "id": "4T7_ADjQ0LjD"
      }
    },
    {
      "cell_type": "code",
      "execution_count": 1,
      "metadata": {
        "id": "cBnmedid0Jh3"
      },
      "outputs": [],
      "source": [
        "def isIsomorphic(s, t):\n",
        "    char_map_s = {}\n",
        "    char_map_t = {}\n",
        "\n",
        "    for char_s, char_t in zip(s, t):\n",
        "        if char_s not in char_map_s and char_t not in char_map_t:\n",
        "            char_map_s[char_s] = char_t\n",
        "            char_map_t[char_t] = char_s\n",
        "        elif char_s in char_map_s and char_t in char_map_t:\n",
        "            if char_map_s[char_s] != char_t or char_map_t[char_t] != char_s:\n",
        "                return False\n",
        "        else:\n",
        "            return False\n",
        "\n",
        "    return True\n"
      ]
    },
    {
      "cell_type": "markdown",
      "source": [
        "**Ques 2**"
      ],
      "metadata": {
        "id": "njvlbTsI2SXx"
      }
    },
    {
      "cell_type": "code",
      "source": [
        "def isStrobogrammatic(num):\n",
        "    strobogrammatic_pairs = {\"00\", \"11\", \"88\", \"69\", \"96\"}\n",
        "    left = 0\n",
        "    right = len(num) - 1\n",
        "\n",
        "    while left <= right:\n",
        "        pair = num[left] + num[right]\n",
        "        if pair not in strobogrammatic_pairs:\n",
        "            return False\n",
        "        left += 1\n",
        "        right -= 1\n",
        "\n",
        "    return True\n",
        "\n"
      ],
      "metadata": {
        "id": "x_J-G31f2T_O"
      },
      "execution_count": 2,
      "outputs": []
    },
    {
      "cell_type": "markdown",
      "source": [
        "**Ques 3**"
      ],
      "metadata": {
        "id": "0NaEGAi92mBS"
      }
    },
    {
      "cell_type": "code",
      "source": [
        "def addStrings(num1, num2):\n",
        "    result = \"\"\n",
        "    i = len(num1) - 1\n",
        "    j = len(num2) - 1\n",
        "    carry = 0\n",
        "\n",
        "    while i >= 0 or j >= 0 or carry != 0:\n",
        "        digit1 = int(num1[i]) if i >= 0 else 0\n",
        "        digit2 = int(num2[j]) if j >= 0 else 0\n",
        "        sum_digits = digit1 + digit2 + carry\n",
        "        result = str(sum_digits % 10) + result\n",
        "        carry = sum_digits // 10\n",
        "        i -= 1\n",
        "        j -= 1\n",
        "\n",
        "    return result\n"
      ],
      "metadata": {
        "id": "QXiNPKyL2n32"
      },
      "execution_count": 3,
      "outputs": []
    },
    {
      "cell_type": "markdown",
      "source": [
        "**Ques 4**"
      ],
      "metadata": {
        "id": "OVkQAjqe2-_N"
      }
    },
    {
      "cell_type": "code",
      "source": [
        "def reverseWords(s):\n",
        "    words = s.split()\n",
        "    result = []\n",
        "\n",
        "    for word in words:\n",
        "        left = 0\n",
        "        right = len(word) - 1\n",
        "        word = list(word)\n",
        "\n",
        "        while left < right:\n",
        "            word[left], word[right] = word[right], word[left]\n",
        "            left += 1\n",
        "            right -= 1\n",
        "\n",
        "        result.append(''.join(word))\n",
        "\n",
        "    return ' '.join(result)\n"
      ],
      "metadata": {
        "id": "SNAvK1nC3A4Y"
      },
      "execution_count": 4,
      "outputs": []
    },
    {
      "cell_type": "markdown",
      "source": [
        "**Ques 5**"
      ],
      "metadata": {
        "id": "ef-6thOW3cfZ"
      }
    },
    {
      "cell_type": "code",
      "source": [
        "def reverseStr(s, k):\n",
        "    s = list(s)\n",
        "    n = len(s)\n",
        "\n",
        "    for i in range(0, n, 2 * k):\n",
        "        left = i\n",
        "        right = min(i + k - 1, n - 1)\n",
        "\n",
        "        while left < right:\n",
        "            s[left], s[right] = s[right], s[left]\n",
        "            left += 1\n",
        "            right -= 1\n",
        "\n",
        "    return ''.join(s)\n"
      ],
      "metadata": {
        "id": "PErSI40w3eRb"
      },
      "execution_count": 5,
      "outputs": []
    },
    {
      "cell_type": "markdown",
      "source": [
        "**Ques 6**"
      ],
      "metadata": {
        "id": "yxVs4Lpy3zWw"
      }
    },
    {
      "cell_type": "code",
      "source": [
        "def rotateString(s, goal):\n",
        "    if len(s) != len(goal):\n",
        "        return False\n",
        "\n",
        "    concat = s + s\n",
        "    if goal in concat:\n",
        "        return True\n",
        "    else:\n",
        "        return False\n"
      ],
      "metadata": {
        "id": "CbTtCo6532HX"
      },
      "execution_count": 6,
      "outputs": []
    },
    {
      "cell_type": "markdown",
      "source": [
        "**Ques 7**"
      ],
      "metadata": {
        "id": "4I6KTB6L4cTQ"
      }
    },
    {
      "cell_type": "code",
      "source": [
        "def backspaceCompare(s, t):\n",
        "    stack_s = []\n",
        "    stack_t = []\n",
        "\n",
        "    for char in s:\n",
        "        if char != '#':\n",
        "            stack_s.append(char)\n",
        "        elif stack_s:\n",
        "            stack_s.pop()\n",
        "\n",
        "    for char in t:\n",
        "        if char != '#':\n",
        "            stack_t.append(char)\n",
        "        elif stack_t:\n",
        "            stack_t.pop()\n",
        "\n",
        "    return stack_s == stack_t\n"
      ],
      "metadata": {
        "id": "KJu6TqCM4gO5"
      },
      "execution_count": 7,
      "outputs": []
    },
    {
      "cell_type": "markdown",
      "source": [
        "**Ques 8**"
      ],
      "metadata": {
        "id": "w0rIBl435AmL"
      }
    },
    {
      "cell_type": "code",
      "source": [
        "def checkStraightLine(coordinates):\n",
        "    x1, y1 = coordinates[0]\n",
        "\n",
        "    for i in range(1, len(coordinates)):\n",
        "        x, y = coordinates[i]\n",
        "        if (x - x1) * (y - coordinates[i-1][1]) != (y - y1) * (x - coordinates[i-1][0]):\n",
        "            return False\n",
        "\n",
        "    return True\n"
      ],
      "metadata": {
        "id": "Y76WIifF5ECN"
      },
      "execution_count": 8,
      "outputs": []
    }
  ]
}