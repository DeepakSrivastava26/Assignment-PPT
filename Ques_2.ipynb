{
  "nbformat": 4,
  "nbformat_minor": 0,
  "metadata": {
    "colab": {
      "provenance": []
    },
    "kernelspec": {
      "name": "python3",
      "display_name": "Python 3"
    },
    "language_info": {
      "name": "python"
    }
  },
  "cells": [
    {
      "cell_type": "code",
      "execution_count": 1,
      "metadata": {
        "colab": {
          "base_uri": "https://localhost:8080/"
        },
        "id": "4CoVww9SdOrO",
        "outputId": "a52e89a2-f05e-4ad7-ebb9-10886d371bc0"
      },
      "outputs": [
        {
          "output_type": "stream",
          "name": "stdout",
          "text": [
            "0\n",
            "2\n",
            "-1\n"
          ]
        }
      ],
      "source": [
        "def firstUniqChar(s):\n",
        "    char_count = {}  # Dictionary to store character counts\n",
        "\n",
        "    # Count the occurrence of each character in the string\n",
        "    for char in s:\n",
        "        char_count[char] = char_count.get(char, 0) + 1\n",
        "\n",
        "    # Find the index of the first non-repeating character\n",
        "    for i in range(len(s)):\n",
        "        if char_count[s[i]] == 1:\n",
        "            return i\n",
        "\n",
        "    return -1  # If no non-repeating character is found\n",
        "\n",
        "# Example test cases\n",
        "s1 = \"leetcode\"\n",
        "print(firstUniqChar(s1))  # Output: 0\n",
        "\n",
        "s2 = \"loveleetcode\"\n",
        "print(firstUniqChar(s2))  # Output: 2\n",
        "\n",
        "s3 = \"aabb\"\n",
        "print(firstUniqChar(s3))  # Output: -1\n",
        "\n"
      ]
    }
  ]
}