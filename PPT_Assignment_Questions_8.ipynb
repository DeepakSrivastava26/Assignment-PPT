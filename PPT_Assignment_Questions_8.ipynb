{
  "nbformat": 4,
  "nbformat_minor": 0,
  "metadata": {
    "colab": {
      "provenance": []
    },
    "kernelspec": {
      "name": "python3",
      "display_name": "Python 3"
    },
    "language_info": {
      "name": "python"
    }
  },
  "cells": [
    {
      "cell_type": "markdown",
      "source": [
        "**Ques 1**"
      ],
      "metadata": {
        "id": "4T7_ADjQ0LjD"
      }
    },
    {
      "cell_type": "code",
      "execution_count": 1,
      "metadata": {
        "id": "cBnmedid0Jh3"
      },
      "outputs": [],
      "source": [
        "def minimumDeleteSum(s1, s2):\n",
        "    m, n = len(s1), len(s2)\n",
        "    dp = [[0] * (n + 1) for _ in range(m + 1)]\n",
        "\n",
        "    for i in range(1, m + 1):\n",
        "        dp[i][0] = dp[i-1][0] + ord(s1[i-1])\n",
        "\n",
        "    for j in range(1, n + 1):\n",
        "        dp[0][j] = dp[0][j-1] + ord(s2[j-1])\n",
        "\n",
        "    for i in range(1, m + 1):\n",
        "        for j in range(1, n + 1):\n",
        "            if s1[i-1] == s2[j-1]:\n",
        "                dp[i][j] = dp[i-1][j-1]\n",
        "            else:\n",
        "                dp[i][j] = min(dp[i-1][j] + ord(s1[i-1]), dp[i][j-1] + ord(s2[j-1]))\n",
        "\n",
        "    return dp[m][n]\n"
      ]
    },
    {
      "cell_type": "markdown",
      "source": [
        "**Ques 2**"
      ],
      "metadata": {
        "id": "njvlbTsI2SXx"
      }
    },
    {
      "cell_type": "code",
      "source": [
        "def isValid(s):\n",
        "    stack = []\n",
        "    wildcard_count = 0\n",
        "\n",
        "    for ch in s:\n",
        "        if ch == '(':\n",
        "            stack.append(ch)\n",
        "        elif ch == ')':\n",
        "            if stack:\n",
        "                stack.pop()\n",
        "            elif wildcard_count > 0:\n",
        "                wildcard_count -= 1\n",
        "            else:\n",
        "                return False\n",
        "        elif ch == '*':\n",
        "            wildcard_count += 1\n",
        "\n",
        "    while stack:\n",
        "        if wildcard_count > 0:\n",
        "            stack.pop()\n",
        "            wildcard_count -= 1\n",
        "        else:\n",
        "            return False\n",
        "\n",
        "    return True\n"
      ],
      "metadata": {
        "id": "x_J-G31f2T_O"
      },
      "execution_count": 2,
      "outputs": []
    },
    {
      "cell_type": "markdown",
      "source": [
        "**Ques 3**"
      ],
      "metadata": {
        "id": "0NaEGAi92mBS"
      }
    },
    {
      "cell_type": "code",
      "source": [
        "def minSteps(word1, word2):\n",
        "    m, n = len(word1), len(word2)\n",
        "    dp = [[0] * (n+1) for _ in range(m+1)]\n",
        "\n",
        "    for i in range(m+1):\n",
        "        for j in range(n+1):\n",
        "            if i == 0 or j == 0:\n",
        "                dp[i][j] = 0\n",
        "            elif word1[i-1] == word2[j-1]:\n",
        "                dp[i][j] = dp[i-1][j-1] + 1\n",
        "            else:\n",
        "                dp[i][j] = max(dp[i-1][j], dp[i][j-1])\n",
        "\n",
        "    return m + n - 2 * dp[m][n]\n"
      ],
      "metadata": {
        "id": "QXiNPKyL2n32"
      },
      "execution_count": 3,
      "outputs": []
    },
    {
      "cell_type": "markdown",
      "source": [
        "**Ques 4**"
      ],
      "metadata": {
        "id": "OVkQAjqe2-_N"
      }
    },
    {
      "cell_type": "code",
      "source": [
        "class TreeNode:\n",
        "    def __init__(self, val=0, left=None, right=None):\n",
        "        self.val = val\n",
        "        self.left = left\n",
        "        self.right = right\n",
        "\n",
        "def constructTree(s):\n",
        "    if not s or s == '()':\n",
        "        return None\n",
        "\n",
        "    root_val = s[1:s.index('(')]\n",
        "    root = TreeNode(int(root_val))\n",
        "\n",
        "    left = ''\n",
        "    right = ''\n",
        "\n",
        "    count = 0\n",
        "    start = 0\n",
        "    for i in range(1, len(s)):\n",
        "        if s[i] == '(':\n",
        "            count += 1\n",
        "        elif s[i] == ')':\n",
        "            count -= 1\n",
        "\n",
        "        if count == 0:\n",
        "            if left == '':\n",
        "                left = s[start:i+1]\n",
        "            else:\n",
        "                right = s[start:i+1]\n",
        "\n",
        "    root.left = constructTree(left[1:-1])\n",
        "    root.right = constructTree(right[1:-1])\n",
        "\n",
        "    return root\n"
      ],
      "metadata": {
        "id": "SNAvK1nC3A4Y"
      },
      "execution_count": 4,
      "outputs": []
    },
    {
      "cell_type": "markdown",
      "source": [
        "**Ques 5**"
      ],
      "metadata": {
        "id": "ef-6thOW3cfZ"
      }
    },
    {
      "cell_type": "code",
      "source": [
        "def compress(chars):\n",
        "    read = 0\n",
        "    write = 0\n",
        "    count = 1\n",
        "\n",
        "    for i in range(1, len(chars)):\n",
        "        if chars[i] == chars[i-1]:\n",
        "            count += 1\n",
        "        else:\n",
        "            chars[write] = chars[read]\n",
        "            write += 1\n",
        "            if count > 1:\n",
        "                count_str = str(count)\n",
        "                for digit in count_str:\n",
        "                    chars[write] = digit\n",
        "                    write += 1\n",
        "            count = 1\n",
        "            read = i\n",
        "\n",
        "    chars[write] = chars[read]\n",
        "    write += 1\n",
        "    if count > 1:\n",
        "        count_str = str(count)\n",
        "        for digit in count_str:\n",
        "            chars[write] = digit\n",
        "            write += 1\n",
        "\n",
        "    return write\n"
      ],
      "metadata": {
        "id": "PErSI40w3eRb"
      },
      "execution_count": 5,
      "outputs": []
    },
    {
      "cell_type": "markdown",
      "source": [
        "**Ques 6**"
      ],
      "metadata": {
        "id": "yxVs4Lpy3zWw"
      }
    },
    {
      "cell_type": "code",
      "source": [
        "from collections import Counter\n",
        "\n",
        "def findAnagrams(s, p):\n",
        "    p_freq = Counter(p)\n",
        "    s_freq = Counter()\n",
        "    matches = 0\n",
        "    left = 0\n",
        "    result = []\n",
        "\n",
        "    for right in range(len(s)):\n",
        "        s_freq[s[right]] += 1\n",
        "        if s_freq[s[right]] == p_freq[s[right]]:\n",
        "            matches += 1\n",
        "\n",
        "        if right >= len(p):\n",
        "            if s_freq[s[left]] == p_freq[s[left]]:\n",
        "                matches -= 1\n",
        "            s_freq[s[left]] -= 1\n",
        "            if s_freq[s[left]] == 0:\n",
        "                del s_freq[s[left]]\n",
        "            left += 1\n",
        "\n",
        "        if matches == len(p_freq):\n",
        "            result.append(left)\n",
        "\n",
        "    return result\n"
      ],
      "metadata": {
        "id": "CbTtCo6532HX"
      },
      "execution_count": 6,
      "outputs": []
    },
    {
      "cell_type": "markdown",
      "source": [
        "**Ques 7**"
      ],
      "metadata": {
        "id": "4I6KTB6L4cTQ"
      }
    },
    {
      "cell_type": "code",
      "source": [
        "def decodeString(s):\n",
        "    stack = []\n",
        "    current_str = \"\"\n",
        "    current_num = 0\n",
        "\n",
        "    for c in s:\n",
        "        if c.isdigit():\n",
        "            current_num = current_num * 10 + int(c)\n",
        "        elif c == \"[\":\n",
        "            stack.append(current_str)\n",
        "            stack.append(current_num)\n",
        "            current_str = \"\"\n",
        "            current_num = 0\n",
        "        elif c == \"]\":\n",
        "            num = stack.pop()\n",
        "            prev_str = stack.pop()\n",
        "            current_str = prev_str + num * current_str\n",
        "        else:\n",
        "            current_str += c\n",
        "\n",
        "    return current_str\n"
      ],
      "metadata": {
        "id": "KJu6TqCM4gO5"
      },
      "execution_count": 7,
      "outputs": []
    },
    {
      "cell_type": "markdown",
      "source": [
        "**Ques 8**"
      ],
      "metadata": {
        "id": "w0rIBl435AmL"
      }
    },
    {
      "cell_type": "code",
      "source": [
        "def canSwapStrings(s, goal):\n",
        "    differences = []\n",
        "    for i in range(len(s)):\n",
        "        if s[i] != goal[i]:\n",
        "            differences.append(i)\n",
        "            if len(differences) > 2:\n",
        "                return False\n",
        "\n",
        "    return len(differences) == 2 and s[differences[0]] == goal[differences[1]] and s[differences[1]] == goal[differences[0]]\n"
      ],
      "metadata": {
        "id": "Y76WIifF5ECN"
      },
      "execution_count": 8,
      "outputs": []
    }
  ]
}