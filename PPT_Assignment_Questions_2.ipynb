{
  "nbformat": 4,
  "nbformat_minor": 0,
  "metadata": {
    "colab": {
      "provenance": []
    },
    "kernelspec": {
      "name": "python3",
      "display_name": "Python 3"
    },
    "language_info": {
      "name": "python"
    }
  },
  "cells": [
    {
      "cell_type": "markdown",
      "source": [
        "**Ques 1**"
      ],
      "metadata": {
        "id": "miqmkovfh7tH"
      }
    },
    {
      "cell_type": "code",
      "execution_count": 1,
      "metadata": {
        "colab": {
          "base_uri": "https://localhost:8080/"
        },
        "id": "AfzE-xFWhwdr",
        "outputId": "786a7d6a-f90c-46a4-df9f-af9ed95fa5f1"
      },
      "outputs": [
        {
          "output_type": "stream",
          "name": "stdout",
          "text": [
            "4\n"
          ]
        }
      ],
      "source": [
        "def arrayPairSum(nums):\n",
        "    nums.sort()  # Sort the array in ascending order\n",
        "    result = 0\n",
        "    for i in range(0, len(nums), 2):\n",
        "        result += nums[i]  # Sum the minimum values in each pair\n",
        "    return result\n",
        "\n",
        "# Example test case\n",
        "nums = [1, 4, 3, 2]\n",
        "print(arrayPairSum(nums))  # Output: 4\n"
      ]
    },
    {
      "cell_type": "markdown",
      "source": [
        "**Ques 2**"
      ],
      "metadata": {
        "id": "rn7ZNgSwjKda"
      }
    },
    {
      "cell_type": "code",
      "source": [
        "def distributeCandies(candyType):\n",
        "    # Calculate the maximum number of candies Alice can eat\n",
        "    max_candies = len(candyType) // 2\n",
        "\n",
        "    # Create a set to store the unique types of candies\n",
        "    unique_candies = set(candyType)\n",
        "\n",
        "    # Return the minimum between the number of unique candies and the maximum allowed candies\n",
        "    return min(len(unique_candies), max_candies)\n",
        "\n",
        "# Example test case\n",
        "candyType = [1, 1, 2, 2, 3, 3]\n",
        "print(distributeCandies(candyType))  # Output: 3\n"
      ],
      "metadata": {
        "colab": {
          "base_uri": "https://localhost:8080/"
        },
        "id": "0pLU1AQNjNjb",
        "outputId": "5c63fc59-8161-4b72-f60a-7541155b1df8"
      },
      "execution_count": 2,
      "outputs": [
        {
          "output_type": "stream",
          "name": "stdout",
          "text": [
            "3\n"
          ]
        }
      ]
    },
    {
      "cell_type": "markdown",
      "source": [
        "**Ques 3**"
      ],
      "metadata": {
        "id": "tWkBumHWjP7t"
      }
    },
    {
      "cell_type": "code",
      "source": [
        "def findLHS(nums):\n",
        "    num_counts = {}  # Dictionary to store the counts of each number\n",
        "\n",
        "    # Count the occurrences of each number in the array\n",
        "    for num in nums:\n",
        "        num_counts[num] = num_counts.get(num, 0) + 1\n",
        "\n",
        "    max_length = 0\n",
        "\n",
        "    # Iterate through the dictionary\n",
        "    for num in num_counts:\n",
        "        if num + 1 in num_counts:\n",
        "            # Calculate the length of the harmonious subsequence\n",
        "            length = num_counts[num] + num_counts[num + 1]\n",
        "            max_length = max(max_length, length)\n",
        "\n",
        "    return max_length\n",
        "\n",
        "# Example test case\n",
        "nums = [1, 3, 2, 2, 5, 2, 3, 7]\n",
        "print(findLHS(nums))  # Output: 5\n"
      ],
      "metadata": {
        "id": "ifwXfzsAjR8S"
      },
      "execution_count": null,
      "outputs": []
    },
    {
      "cell_type": "markdown",
      "source": [
        "**Ques 4**"
      ],
      "metadata": {
        "id": "uiz4oIo3jZ9G"
      }
    },
    {
      "cell_type": "code",
      "source": [
        "def canPlaceFlowers(flowerbed, n):\n",
        "    count = 0\n",
        "    i = 0\n",
        "    while i < len(flowerbed):\n",
        "        if flowerbed[i] == 0 and (i == 0 or flowerbed[i - 1] == 0) and (i == len(flowerbed) - 1 or flowerbed[i + 1] == 0):\n",
        "            # Empty plot found and adjacent plots are also empty\n",
        "            flowerbed[i] = 1  # Plant a flower\n",
        "            count += 1  # Increment the count of planted flowers\n",
        "        i += 1\n",
        "        if count >= n:\n",
        "            return True\n",
        "    return False\n",
        "\n",
        "# Example test case\n",
        "flowerbed = [1, 0, 0, 0, 1]\n",
        "n = 1\n",
        "print(canPlaceFlowers(flowerbed, n))  # Output: True\n"
      ],
      "metadata": {
        "id": "elKMningjbm9"
      },
      "execution_count": null,
      "outputs": []
    },
    {
      "cell_type": "markdown",
      "source": [
        "**Ques 5**"
      ],
      "metadata": {
        "id": "P8IdmrvCjnQZ"
      }
    },
    {
      "cell_type": "code",
      "source": [
        "def maximumProduct(nums):\n",
        "    # Sort the array in ascending order\n",
        "    nums.sort()\n",
        "\n",
        "    # Calculate the product of the three largest positive numbers\n",
        "    product1 = nums[-1] * nums[-2] * nums[-3]\n",
        "\n",
        "    # Calculate the product of the two smallest negative numbers and the largest positive number\n",
        "    product2 = nums[0] * nums[1] * nums[-1]\n",
        "\n",
        "    # Return the maximum product between product1 and product2\n",
        "    return max(product1, product2)\n",
        "\n",
        "# Example test case\n",
        "nums = [1, 2, 3]\n",
        "print(maximumProduct(nums))  # Output: 6\n"
      ],
      "metadata": {
        "id": "mIqxRUtIjpnR"
      },
      "execution_count": null,
      "outputs": []
    },
    {
      "cell_type": "markdown",
      "source": [
        "**Ques 6**"
      ],
      "metadata": {
        "id": "3dGQsGMGkAXj"
      }
    },
    {
      "cell_type": "code",
      "source": [
        "def search(nums, target):\n",
        "    left = 0\n",
        "    right = len(nums) - 1\n",
        "\n",
        "    while left <= right:\n",
        "        mid = left + (right - left) // 2\n",
        "\n",
        "        if nums[mid] == target:\n",
        "            return mid\n",
        "        elif nums[mid] < target:\n",
        "            left = mid + 1\n",
        "        else:\n",
        "            right = mid - 1\n",
        "\n",
        "    return -1\n",
        "\n",
        "# Example test case\n",
        "nums = [-1, 0, 3, 5, 9, 12]\n",
        "target = 9\n",
        "print(search(nums, target))  # Output: 4\n"
      ],
      "metadata": {
        "id": "aZBhsZj6kC-z"
      },
      "execution_count": null,
      "outputs": []
    },
    {
      "cell_type": "markdown",
      "source": [
        "**Ques 7**"
      ],
      "metadata": {
        "id": "CtwbI3wpkMGF"
      }
    },
    {
      "cell_type": "code",
      "source": [
        "def isMonotonic(nums):\n",
        "    increasing = decreasing = True\n",
        "\n",
        "    for i in range(1, len(nums)):\n",
        "        if nums[i] < nums[i-1]:\n",
        "            increasing = False\n",
        "        if nums[i] > nums[i-1]:\n",
        "            decreasing = False\n",
        "\n",
        "    return increasing or decreasing\n",
        "\n",
        "# Example test case\n",
        "nums = [1, 2, 2, 3]\n",
        "print(isMonotonic(nums))  # Output: True\n"
      ],
      "metadata": {
        "id": "spLyiBVjkOFX"
      },
      "execution_count": null,
      "outputs": []
    },
    {
      "cell_type": "markdown",
      "source": [
        "**Ques 8**"
      ],
      "metadata": {
        "id": "jE6OMK3NkWPB"
      }
    },
    {
      "cell_type": "code",
      "source": [
        "def minScore(nums, k):\n",
        "    nums.sort()  # Sort the array in ascending order\n",
        "    n = len(nums)\n",
        "\n",
        "    # Initialize the maximum and minimum elements\n",
        "    maximum = nums[n-1]\n",
        "    minimum = nums[0]\n",
        "\n",
        "    # Iterate through the array, modifying the elements\n",
        "    for i in range(n-1):\n",
        "        high = max(nums[i] + k, maximum - k)  # Add k to nums[i] or subtract k from maximum\n",
        "        low = min(nums[i+1] - k, minimum + k)  # Subtract k from nums[i+1] or add k to minimum\n",
        "        maximum = max(maximum, high)\n",
        "        minimum = min(minimum, low)\n",
        "\n",
        "    return maximum - minimum\n",
        "\n",
        "# Example test case\n",
        "nums = [1]\n",
        "k = 0\n",
        "print(minScore(nums, k))  # Output: 0\n"
      ],
      "metadata": {
        "id": "RRKGuTa6kZSw"
      },
      "execution_count": null,
      "outputs": []
    }
  ]
}