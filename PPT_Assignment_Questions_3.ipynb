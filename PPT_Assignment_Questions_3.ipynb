{
  "nbformat": 4,
  "nbformat_minor": 0,
  "metadata": {
    "colab": {
      "provenance": []
    },
    "kernelspec": {
      "name": "python3",
      "display_name": "Python 3"
    },
    "language_info": {
      "name": "python"
    }
  },
  "cells": [
    {
      "cell_type": "markdown",
      "source": [
        "**Ques 1**"
      ],
      "metadata": {
        "id": "0LLA9UL_PKq_"
      }
    },
    {
      "cell_type": "code",
      "source": [
        "def threeSumClosest(nums, target):\n",
        "    nums.sort()\n",
        "    closestSum = float('inf')\n",
        "    n = len(nums)\n",
        "\n",
        "    for i in range(n - 2):\n",
        "        left = i + 1\n",
        "        right = n - 1\n",
        "\n",
        "        while left < right:\n",
        "            total = nums[i] + nums[left] + nums[right]\n",
        "\n",
        "            if total == target:\n",
        "                return target\n",
        "\n",
        "            if abs(total - target) < abs(closestSum - target):\n",
        "                closestSum = total\n",
        "\n",
        "            if total < target:\n",
        "                left += 1\n",
        "            else:\n",
        "                right -= 1\n",
        "\n",
        "    return closestSum\n"
      ],
      "metadata": {
        "id": "-nCk55d4PP8d"
      },
      "execution_count": null,
      "outputs": []
    },
    {
      "cell_type": "markdown",
      "source": [
        "**Ques 2**"
      ],
      "metadata": {
        "id": "mnIp-V3BPvGr"
      }
    },
    {
      "cell_type": "code",
      "source": [
        "def fourSum(nums, target):\n",
        "    nums.sort()\n",
        "    result = []\n",
        "    n = len(nums)\n",
        "\n",
        "    for i in range(n - 3):\n",
        "        if i > 0 and nums[i] == nums[i - 1]:\n",
        "            continue\n",
        "\n",
        "        for j in range(i + 1, n - 2):\n",
        "            if j > i + 1 and nums[j] == nums[j - 1]:\n",
        "                continue\n",
        "\n",
        "            left = j + 1\n",
        "            right = n - 1\n",
        "\n",
        "            while left < right:\n",
        "                total = nums[i] + nums[j] + nums[left] + nums[right]\n",
        "\n",
        "                if total == target:\n",
        "                    result.append([nums[i], nums[j], nums[left], nums[right]])\n",
        "                    left += 1\n",
        "                    right -= 1\n",
        "\n",
        "                    while left < right and nums[left] == nums[left - 1]:\n",
        "                        left += 1\n",
        "\n",
        "                    while left < right and nums[right] == nums[right + 1]:\n",
        "                        right -= 1\n",
        "\n",
        "                elif total < target:\n",
        "                    left += 1\n",
        "                else:\n",
        "                    right -= 1\n",
        "\n",
        "    return result\n"
      ],
      "metadata": {
        "id": "j3O7NsdxPw2c"
      },
      "execution_count": null,
      "outputs": []
    },
    {
      "cell_type": "markdown",
      "source": [
        "**Ques 3**"
      ],
      "metadata": {
        "id": "IPUta4Z7QZ0k"
      }
    },
    {
      "cell_type": "code",
      "source": [
        "def nextPermutation(nums):\n",
        "    n = len(nums)\n",
        "    i = n - 2\n",
        "\n",
        "    # Find the first decreasing element from the right\n",
        "    while i >= 0 and nums[i] >= nums[i + 1]:\n",
        "        i -= 1\n",
        "\n",
        "    if i >= 0:\n",
        "        j = n - 1\n",
        "\n",
        "        # Find the first element greater than nums[i]\n",
        "        while j >= 0 and nums[j] <= nums[i]:\n",
        "            j -= 1\n",
        "\n",
        "        # Swap nums[i] and nums[j]\n",
        "        nums[i], nums[j] = nums[j], nums[i]\n",
        "\n",
        "    # Reverse the remaining elements\n",
        "    left = i + 1\n",
        "    right = n - 1\n",
        "\n",
        "    while left < right:\n",
        "        nums[left], nums[right] = nums[right], nums[left]\n",
        "        left += 1\n",
        "        right -= 1\n",
        "\n",
        "    return nums\n"
      ],
      "metadata": {
        "id": "wh4gioSYQb4s"
      },
      "execution_count": null,
      "outputs": []
    },
    {
      "cell_type": "markdown",
      "source": [
        "**Ques 4**"
      ],
      "metadata": {
        "id": "a0oHxF1iQniW"
      }
    },
    {
      "cell_type": "code",
      "source": [
        "def searchInsert(nums, target):\n",
        "    left = 0\n",
        "    right = len(nums) - 1\n",
        "\n",
        "    while left <= right:\n",
        "        mid = (left + right) // 2\n",
        "\n",
        "        if nums[mid] == target:\n",
        "            return mid\n",
        "        elif nums[mid] < target:\n",
        "            left = mid + 1\n",
        "        else:\n",
        "            right = mid - 1\n",
        "\n",
        "    return left\n"
      ],
      "metadata": {
        "id": "UGRavDm9QqDl"
      },
      "execution_count": null,
      "outputs": []
    },
    {
      "cell_type": "markdown",
      "source": [
        "**Ques 5**"
      ],
      "metadata": {
        "id": "ntK2GwLpQ0YI"
      }
    },
    {
      "cell_type": "code",
      "source": [
        "def plusOne(digits):\n",
        "    n = len(digits)\n",
        "    carry = 1\n",
        "\n",
        "    for i in range(n - 1, -1, -1):\n",
        "        digits[i] += carry\n",
        "        carry = digits[i] // 10\n",
        "        digits[i] %= 10\n",
        "\n",
        "        if carry == 0:\n",
        "            break\n",
        "\n",
        "    if carry != 0:\n",
        "        digits.insert(0, carry)\n",
        "\n",
        "    return digits\n"
      ],
      "metadata": {
        "id": "NIu8BSG3Q2fP"
      },
      "execution_count": null,
      "outputs": []
    },
    {
      "cell_type": "markdown",
      "source": [
        "**Ques 6**"
      ],
      "metadata": {
        "id": "ndO-jp6sRAKK"
      }
    },
    {
      "cell_type": "code",
      "source": [
        "def singleNumber(nums):\n",
        "    result = 0\n",
        "    for num in nums:\n",
        "        result ^= num\n",
        "    return result\n"
      ],
      "metadata": {
        "id": "VTEhJcqiRCUD"
      },
      "execution_count": null,
      "outputs": []
    },
    {
      "cell_type": "markdown",
      "source": [
        "**Ques 7**"
      ],
      "metadata": {
        "id": "SDAXHDbgRYsM"
      }
    },
    {
      "cell_type": "code",
      "source": [
        "def findMissingRanges(nums, lower, upper):\n",
        "    result = []\n",
        "    start = lower\n",
        "\n",
        "    for num in nums:\n",
        "        if num == start:\n",
        "            start += 1\n",
        "        elif num > start:\n",
        "            result.append([start, num - 1])\n",
        "            start = num + 1\n",
        "\n",
        "    if start <= upper:\n",
        "        result.append([start, upper])\n",
        "\n",
        "    return result\n"
      ],
      "metadata": {
        "id": "OIyeG_EsRavr"
      },
      "execution_count": null,
      "outputs": []
    },
    {
      "cell_type": "markdown",
      "source": [
        "**Ques 8**"
      ],
      "metadata": {
        "id": "h0EzmHUFRmjp"
      }
    },
    {
      "cell_type": "code",
      "source": [
        "def canAttendMeetings(intervals):\n",
        "    intervals.sort(key=lambda x: x[0])\n",
        "\n",
        "    for i in range(1, len(intervals)):\n",
        "        if intervals[i][0] <= intervals[i - 1][1]:\n",
        "            return False\n",
        "\n",
        "    return True\n"
      ],
      "metadata": {
        "id": "zvIOHZSvRobD"
      },
      "execution_count": null,
      "outputs": []
    }
  ]
}