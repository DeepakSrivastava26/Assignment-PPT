{
  "nbformat": 4,
  "nbformat_minor": 0,
  "metadata": {
    "colab": {
      "provenance": []
    },
    "kernelspec": {
      "name": "python3",
      "display_name": "Python 3"
    },
    "language_info": {
      "name": "python"
    }
  },
  "cells": [
    {
      "cell_type": "markdown",
      "source": [
        "**Ques 1**"
      ],
      "metadata": {
        "id": "YVhZ7TYmcylW"
      }
    },
    {
      "cell_type": "code",
      "execution_count": 2,
      "metadata": {
        "colab": {
          "base_uri": "https://localhost:8080/"
        },
        "id": "4XQK9RWcY09L",
        "outputId": "0dabdf15-8218-4db0-cfd2-a9f408f37b39"
      },
      "outputs": [
        {
          "output_type": "stream",
          "name": "stdout",
          "text": [
            "[1, 3, 12, 0, 0]\n",
            "[0]\n"
          ]
        }
      ],
      "source": [
        "def moveZeroes(nums):\n",
        "    zero_index = 0  # Pointer to track the position for placing non-zero elements\n",
        "\n",
        "    # Iterate through the array\n",
        "    for i in range(len(nums)):\n",
        "        if nums[i] != 0:\n",
        "            # Swap non-zero elements with the current zero_index\n",
        "            nums[i], nums[zero_index] = nums[zero_index], nums[i]\n",
        "            zero_index += 1\n",
        "\n",
        "# Example test cases\n",
        "nums1 = [0, 1, 0, 3, 12]\n",
        "moveZeroes(nums1)\n",
        "print(nums1)  # Output: [1, 3, 12, 0, 0]\n",
        "\n",
        "nums2 = [0]\n",
        "moveZeroes(nums2)\n",
        "print(nums2)  # Output: [0]\n"
      ]
    }
  ]
}