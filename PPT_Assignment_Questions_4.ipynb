{
  "nbformat": 4,
  "nbformat_minor": 0,
  "metadata": {
    "colab": {
      "provenance": []
    },
    "kernelspec": {
      "name": "python3",
      "display_name": "Python 3"
    },
    "language_info": {
      "name": "python"
    }
  },
  "cells": [
    {
      "cell_type": "markdown",
      "source": [
        "**Ques 1**"
      ],
      "metadata": {
        "id": "4T7_ADjQ0LjD"
      }
    },
    {
      "cell_type": "code",
      "execution_count": 3,
      "metadata": {
        "colab": {
          "base_uri": "https://localhost:8080/"
        },
        "id": "cBnmedid0Jh3",
        "outputId": "f864f5cd-9dad-47e9-ad37-850cbf35e7bd"
      },
      "outputs": [
        {
          "output_type": "stream",
          "name": "stdout",
          "text": [
            "[1, 5]\n"
          ]
        }
      ],
      "source": [
        "def arraysIntersection(arr1, arr2, arr3):\n",
        "    p1 = p2 = p3 = 0\n",
        "    result = []\n",
        "\n",
        "    while p1 < len(arr1) and p2 < len(arr2) and p3 < len(arr3):\n",
        "        if arr1[p1] == arr2[p2] == arr3[p3]:\n",
        "            result.append(arr1[p1])\n",
        "            p1 += 1\n",
        "            p2 += 1\n",
        "            p3 += 1\n",
        "        elif arr1[p1] <= arr2[p2] and arr1[p1] <= arr3[p3]:\n",
        "            p1 += 1\n",
        "        elif arr2[p2] <= arr1[p1] and arr2[p2] <= arr3[p3]:\n",
        "            p2 += 1\n",
        "        elif arr3[p3] <= arr1[p1] and arr3[p3] <= arr2[p2]:\n",
        "            p3 += 1\n",
        "\n",
        "    return result\n",
        "arr1 = [1, 2, 3, 4, 5]\n",
        "arr2 = [1, 2, 5, 7, 9]\n",
        "arr3 = [1, 3, 4, 5, 8]\n",
        "result = arraysIntersection(arr1, arr2, arr3)\n",
        "print(result)\n"
      ]
    },
    {
      "cell_type": "markdown",
      "source": [
        "**Ques 2**"
      ],
      "metadata": {
        "id": "njvlbTsI2SXx"
      }
    },
    {
      "cell_type": "code",
      "source": [
        "def findDisappearedNumbers(nums1, nums2):\n",
        "    nums1_set = set(nums1)\n",
        "    nums2_set = set(nums2)\n",
        "\n",
        "    distinct_nums1 = list(nums1_set - nums2_set)\n",
        "    distinct_nums2 = list(nums2_set - nums1_set)\n",
        "\n",
        "    return [distinct_nums1, distinct_nums2]\n",
        "nums1 = [1, 2, 3]\n",
        "nums2 = [2, 4, 6]\n",
        "result = findDisappearedNumbers(nums1, nums2)\n",
        "print(result)\n"
      ],
      "metadata": {
        "colab": {
          "base_uri": "https://localhost:8080/"
        },
        "id": "x_J-G31f2T_O",
        "outputId": "684d7722-f3ae-4629-e87b-8dc39c58f049"
      },
      "execution_count": 4,
      "outputs": [
        {
          "output_type": "stream",
          "name": "stdout",
          "text": [
            "[[1, 3], [4, 6]]\n"
          ]
        }
      ]
    },
    {
      "cell_type": "markdown",
      "source": [
        "**Ques 3**"
      ],
      "metadata": {
        "id": "0NaEGAi92mBS"
      }
    },
    {
      "cell_type": "code",
      "source": [
        "def transpose(matrix):\n",
        "    rows = len(matrix)\n",
        "    cols = len(matrix[0])\n",
        "\n",
        "    result = [[0] * rows for _ in range(cols)]\n",
        "\n",
        "    for row in range(rows):\n",
        "        for col in range(cols):\n",
        "            result[col][row] = matrix[row][col]\n",
        "\n",
        "    return result\n"
      ],
      "metadata": {
        "id": "QXiNPKyL2n32"
      },
      "execution_count": null,
      "outputs": []
    },
    {
      "cell_type": "markdown",
      "source": [
        "**Ques 4**"
      ],
      "metadata": {
        "id": "OVkQAjqe2-_N"
      }
    },
    {
      "cell_type": "code",
      "source": [
        "def arrayPairSum(nums):\n",
        "    nums.sort()\n",
        "    max_sum = 0\n",
        "\n",
        "    for i in range(0, len(nums), 2):\n",
        "        max_sum += nums[i]\n",
        "\n",
        "    return max_sum\n"
      ],
      "metadata": {
        "id": "SNAvK1nC3A4Y"
      },
      "execution_count": null,
      "outputs": []
    },
    {
      "cell_type": "markdown",
      "source": [
        "**Ques 5**"
      ],
      "metadata": {
        "id": "ef-6thOW3cfZ"
      }
    },
    {
      "cell_type": "code",
      "source": [
        "def arrangeCoins(n):\n",
        "    left = 0\n",
        "    right = n\n",
        "\n",
        "    while left <= right:\n",
        "        mid = left + (right - left) // 2\n",
        "        total = (mid * (mid + 1)) // 2\n",
        "\n",
        "        if total == n:\n",
        "            return mid\n",
        "\n",
        "        if total > n:\n",
        "            right = mid - 1\n",
        "        else:\n",
        "            left = mid + 1\n",
        "\n",
        "    return right\n"
      ],
      "metadata": {
        "id": "PErSI40w3eRb"
      },
      "execution_count": null,
      "outputs": []
    },
    {
      "cell_type": "markdown",
      "source": [
        "**Ques 6**"
      ],
      "metadata": {
        "id": "yxVs4Lpy3zWw"
      }
    },
    {
      "cell_type": "code",
      "source": [
        "def sortedSquares(nums):\n",
        "    n = len(nums)\n",
        "    left = 0\n",
        "    right = n - 1\n",
        "    result = []\n",
        "\n",
        "    while left <= right:\n",
        "        if abs(nums[left]) >= abs(nums[right]):\n",
        "            result.append(nums[left] ** 2)\n",
        "            left += 1\n",
        "        else:\n",
        "            result.append(nums[right] ** 2)\n",
        "            right -= 1\n",
        "\n",
        "    return result[::-1]\n",
        "nums = [-4, -1, 0, 3, 10]\n",
        "result = sortedSquares(nums)\n",
        "print(result)\n"
      ],
      "metadata": {
        "colab": {
          "base_uri": "https://localhost:8080/"
        },
        "id": "CbTtCo6532HX",
        "outputId": "601492f3-d34a-416b-87d0-7e33766df4cb"
      },
      "execution_count": 1,
      "outputs": [
        {
          "output_type": "stream",
          "name": "stdout",
          "text": [
            "[0, 1, 9, 16, 100]\n"
          ]
        }
      ]
    },
    {
      "cell_type": "markdown",
      "source": [
        "**Ques 7**"
      ],
      "metadata": {
        "id": "4I6KTB6L4cTQ"
      }
    },
    {
      "cell_type": "code",
      "source": [
        "def maxCount(m, n, ops):\n",
        "    min_row = m\n",
        "    min_col = n\n",
        "\n",
        "    for op in ops:\n",
        "        min_row = min(min_row, op[0])\n",
        "        min_col = min(min_col, op[1])\n",
        "\n",
        "    return min_row * min_col\n",
        "m = 3\n",
        "n = 3\n",
        "ops = [[2, 2], [3, 3]]\n",
        "result = maxCount(m, n, ops)\n",
        "print(result)\n"
      ],
      "metadata": {
        "colab": {
          "base_uri": "https://localhost:8080/"
        },
        "id": "KJu6TqCM4gO5",
        "outputId": "1a297a1a-10f2-438d-d461-b4c9525d5e5f"
      },
      "execution_count": 2,
      "outputs": [
        {
          "output_type": "stream",
          "name": "stdout",
          "text": [
            "4\n"
          ]
        }
      ]
    },
    {
      "cell_type": "markdown",
      "source": [
        "**Ques 8**"
      ],
      "metadata": {
        "id": "w0rIBl435AmL"
      }
    },
    {
      "cell_type": "code",
      "source": [
        "def shuffle(nums, n):\n",
        "    result = []\n",
        "    for i in range(n):\n",
        "        result.append(nums[i])\n",
        "        result.append(nums[i + n])\n",
        "    return result\n",
        "nums = [2, 5, 1, 3, 4, 7]\n",
        "n = 3\n",
        "result = shuffle(nums, n)\n",
        "print(result)\n"
      ],
      "metadata": {
        "id": "Y76WIifF5ECN"
      },
      "execution_count": null,
      "outputs": []
    }
  ]
}