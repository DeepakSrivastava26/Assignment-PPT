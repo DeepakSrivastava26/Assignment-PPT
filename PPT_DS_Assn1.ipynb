{
  "nbformat": 4,
  "nbformat_minor": 0,
  "metadata": {
    "colab": {
      "provenance": []
    },
    "kernelspec": {
      "name": "python3",
      "display_name": "Python 3"
    },
    "language_info": {
      "name": "python"
    }
  },
  "cells": [
    {
      "cell_type": "markdown",
      "source": [
        "**Ques 1**"
      ],
      "metadata": {
        "id": "K39DggCYy6tC"
      }
    },
    {
      "cell_type": "code",
      "execution_count": null,
      "metadata": {
        "id": "4LkVN-a_y0tG"
      },
      "outputs": [],
      "source": [
        "def reverse_string(string):\n",
        "    reversed_string = \"\"\n",
        "    for i in range(len(string)-1, -1, -1):\n",
        "        reversed_string += string[i]\n",
        "    return reversed_string\n",
        "\n",
        "# Test the function\n",
        "input_string = input(\"Enter a string: \")\n",
        "reversed_string = reverse_string(input_string)\n",
        "print(\"Reversed string:\", reversed_string)\n"
      ]
    },
    {
      "cell_type": "markdown",
      "source": [
        "**Ques 2**"
      ],
      "metadata": {
        "id": "4Jkm7WXqzBFs"
      }
    },
    {
      "cell_type": "code",
      "source": [
        "def is_palindrome(string):\n",
        "    # Remove any non-alphanumeric characters and convert to lowercase\n",
        "    clean_string = ''.join(ch.lower() for ch in string if ch.isalnum())\n",
        "    # Check if the clean string is equal to its reverse\n",
        "    return clean_string == clean_string[::-1]\n",
        "\n",
        "# Test the function\n",
        "input_string = input(\"Enter a string: \")\n",
        "if is_palindrome(input_string):\n",
        "    print(\"The string is a palindrome.\")\n",
        "else:\n",
        "    print(\"The string is not a palindrome.\")\n"
      ],
      "metadata": {
        "id": "wN1v2cA30J7U"
      },
      "execution_count": null,
      "outputs": []
    },
    {
      "cell_type": "markdown",
      "source": [
        "**Ques 3**"
      ],
      "metadata": {
        "id": "i7el439_zBSr"
      }
    },
    {
      "cell_type": "code",
      "source": [
        "def find_largest_element(lst):\n",
        "    if not lst:  # Check if the list is empty\n",
        "        return None\n",
        "\n",
        "    largest = lst[0]  # Assume the first element is the largest\n",
        "\n",
        "    for element in lst:\n",
        "        if element > largest:\n",
        "            largest = element\n",
        "\n",
        "    return largest\n",
        "\n",
        "# Test the function\n",
        "input_list = input(\"Enter a list of numbers (space-separated): \").split()\n",
        "input_list = [int(num) for num in input_list]\n",
        "largest_element = find_largest_element(input_list)\n",
        "print(\"The largest element is:\", largest_element)\n"
      ],
      "metadata": {
        "id": "3AGaaIvf0dPN"
      },
      "execution_count": null,
      "outputs": []
    },
    {
      "cell_type": "markdown",
      "source": [
        "**Ques 4**"
      ],
      "metadata": {
        "id": "mATAGVsazBVv"
      }
    },
    {
      "cell_type": "code",
      "source": [
        "def count_occurrences(lst):\n",
        "    occurrence_count = {}\n",
        "    for element in lst:\n",
        "        if element in occurrence_count:\n",
        "            occurrence_count[element] += 1\n",
        "        else:\n",
        "            occurrence_count[element] = 1\n",
        "    return occurrence_count\n",
        "\n",
        "# Test the function\n",
        "input_list = input(\"Enter a list of elements (space-separated): \").split()\n",
        "occurrence_dict = count_occurrences(input_list)\n",
        "print(\"Occurrences:\", occurrence_dict)\n"
      ],
      "metadata": {
        "id": "xtdQqckt0htV"
      },
      "execution_count": null,
      "outputs": []
    },
    {
      "cell_type": "markdown",
      "source": [
        "**Ques 5**"
      ],
      "metadata": {
        "id": "sm0miSSEzBYw"
      }
    },
    {
      "cell_type": "code",
      "source": [
        "def find_second_largest(lst):\n",
        "    if len(lst) < 2:\n",
        "        return None\n",
        "\n",
        "    largest = max(lst[0], lst[1])\n",
        "    second_largest = min(lst[0], lst[1])\n",
        "\n",
        "    for i in range(2, len(lst)):\n",
        "        if lst[i] > largest:\n",
        "            second_largest = largest\n",
        "            largest = lst[i]\n",
        "        elif lst[i] > second_largest and lst[i] != largest:\n",
        "            second_largest = lst[i]\n",
        "\n",
        "    return second_largest\n",
        "\n",
        "# Test the function\n",
        "input_list = input(\"Enter a list of numbers (space-separated): \").split()\n",
        "input_list = [int(num) for num in input_list]\n",
        "second_largest_number = find_second_largest(input_list)\n",
        "if second_largest_number is not None:\n",
        "    print(\"The second largest number is:\", second_largest_number)\n",
        "else:\n",
        "    print(\"There is no second largest number.\")\n"
      ],
      "metadata": {
        "id": "4oBdDIJo0q91"
      },
      "execution_count": null,
      "outputs": []
    },
    {
      "cell_type": "markdown",
      "source": [
        "**Ques 6**"
      ],
      "metadata": {
        "id": "rz8bFsiWzBce"
      }
    },
    {
      "cell_type": "code",
      "source": [
        "def remove_duplicates(lst):\n",
        "    seen = set()\n",
        "    result = []\n",
        "    for element in lst:\n",
        "        if element not in seen:\n",
        "            seen.add(element)\n",
        "            result.append(element)\n",
        "    return result\n",
        "\n",
        "# Test the function\n",
        "input_list = input(\"Enter a list of elements (space-separated): \").split()\n",
        "result_list = remove_duplicates(input_list)\n",
        "print(\"List with duplicates removed:\", result_list)\n"
      ],
      "metadata": {
        "id": "5Xc5d50r1EH8"
      },
      "execution_count": null,
      "outputs": []
    },
    {
      "cell_type": "markdown",
      "source": [
        "**Ques 7**"
      ],
      "metadata": {
        "id": "7ghIO9QmzBev"
      }
    },
    {
      "cell_type": "code",
      "source": [
        "def factorial(n):\n",
        "    if n == 0 or n == 1:\n",
        "        return 1\n",
        "    else:\n",
        "        return n * factorial(n - 1)\n",
        "\n",
        "# Test the function\n",
        "input_number = int(input(\"Enter a number: \"))\n",
        "result = factorial(input_number)\n",
        "print(\"Factorial:\", result)\n"
      ],
      "metadata": {
        "id": "S5qVrnrh1SVC"
      },
      "execution_count": null,
      "outputs": []
    },
    {
      "cell_type": "markdown",
      "source": [
        "**Ques 8**"
      ],
      "metadata": {
        "id": "GwC5ZFYYzBf6"
      }
    },
    {
      "cell_type": "code",
      "source": [
        "def is_prime(n):\n",
        "    if n <= 1:\n",
        "        return False\n",
        "\n",
        "    for i in range(2, int(n**0.5) + 1):\n",
        "        if n % i == 0:\n",
        "            return False\n",
        "\n",
        "    return True\n",
        "\n",
        "# Test the function\n",
        "input_number = int(input(\"Enter a number: \"))\n",
        "if is_prime(input_number):\n",
        "    print(\"The number is prime.\")\n",
        "else:\n",
        "    print(\"The number is not prime.\")\n"
      ],
      "metadata": {
        "id": "i7AI-on61huL"
      },
      "execution_count": null,
      "outputs": []
    },
    {
      "cell_type": "markdown",
      "source": [
        "**Ques 9**"
      ],
      "metadata": {
        "id": "klWcsch_zBir"
      }
    },
    {
      "cell_type": "code",
      "source": [
        "def sort_list_ascending(lst):\n",
        "    lst.sort()\n",
        "    return lst\n",
        "\n",
        "# Test the function\n",
        "input_list = input(\"Enter a list of integers (space-separated): \").split()\n",
        "input_list = [int(num) for num in input_list]\n",
        "sorted_list = sort_list_ascending(input_list)\n",
        "print(\"Sorted list (ascending order):\", sorted_list)\n"
      ],
      "metadata": {
        "id": "22COAI1w1lPb"
      },
      "execution_count": null,
      "outputs": []
    },
    {
      "cell_type": "markdown",
      "source": [
        "**Ques 10**"
      ],
      "metadata": {
        "id": "Zy-g2tRgzBmP"
      }
    },
    {
      "cell_type": "code",
      "source": [
        "def sum_of_numbers(lst):\n",
        "    total = 0\n",
        "    for num in lst:\n",
        "        total += num\n",
        "    return total\n",
        "\n",
        "# Test the function\n",
        "input_list = input(\"Enter a list of numbers (space-separated): \").split()\n",
        "input_list = [int(num) for num in input_list]\n",
        "result = sum_of_numbers(input_list)\n",
        "print(\"Sum of numbers:\", result)\n"
      ],
      "metadata": {
        "id": "KopXnqb22Ldq"
      },
      "execution_count": null,
      "outputs": []
    },
    {
      "cell_type": "markdown",
      "source": [
        "**Ques 11**"
      ],
      "metadata": {
        "id": "fGE1-fB3zBqX"
      }
    },
    {
      "cell_type": "code",
      "source": [
        "def find_common_elements(list1, list2):\n",
        "    common_elements = []\n",
        "    for element in list1:\n",
        "        if element in list2:\n",
        "            common_elements.append(element)\n",
        "    return common_elements\n",
        "\n",
        "# Test the function\n",
        "input_list1 = input(\"Enter the elements of the first list (space-separated): \").split()\n",
        "input_list2 = input(\"Enter the elements of the second list (space-separated): \").split()\n",
        "\n",
        "common_elements = find_common_elements(input_list1, input_list2)\n",
        "print(\"Common elements:\", common_elements)\n"
      ],
      "metadata": {
        "id": "DbCAIs1I2PJb"
      },
      "execution_count": null,
      "outputs": []
    },
    {
      "cell_type": "markdown",
      "source": [
        "**Ques 12**"
      ],
      "metadata": {
        "id": "aHiDADpQzBsZ"
      }
    },
    {
      "cell_type": "code",
      "source": [
        "def is_anagram(string1, string2):\n",
        "    # Convert the strings to lowercase and remove spaces\n",
        "    string1 = string1.lower().replace(\" \", \"\")\n",
        "    string2 = string2.lower().replace(\" \", \"\")\n",
        "\n",
        "    # Check if the sorted characters of both strings are equal\n",
        "    return sorted(string1) == sorted(string2)\n",
        "\n",
        "# Test the function\n",
        "input_string1 = input(\"Enter the first string: \")\n",
        "input_string2 = input(\"Enter the second string: \")\n",
        "\n",
        "if is_anagram(input_string1, input_string2):\n",
        "    print(\"The strings are anagrams.\")\n",
        "else:\n",
        "    print(\"The strings are not anagrams.\")\n"
      ],
      "metadata": {
        "id": "c7SLQO0D2WPK"
      },
      "execution_count": null,
      "outputs": []
    },
    {
      "cell_type": "markdown",
      "source": [
        "**Ques 13**"
      ],
      "metadata": {
        "id": "mszfLV5-zBue"
      }
    },
    {
      "cell_type": "code",
      "source": [
        "def generate_permutations(string):\n",
        "    # Base case: If the string has only one character, return it as a single-element list\n",
        "    if len(string) == 1:\n",
        "        return [string]\n",
        "\n",
        "    # Recursive case: Generate permutations by fixing each character at the beginning and permuting the remaining characters\n",
        "    permutations = []\n",
        "    for i in range(len(string)):\n",
        "        char = string[i]\n",
        "        remaining_chars = string[:i] + string[i+1:]\n",
        "        sub_permutations = generate_permutations(remaining_chars)\n",
        "        for permutation in sub_permutations:\n",
        "            permutations.append(char + permutation)\n",
        "\n",
        "    return permutations\n",
        "\n",
        "# Test the function\n",
        "input_string = input(\"Enter a string: \")\n",
        "permutations = generate_permutations(input_string)\n",
        "print(\"Permutations:\")\n",
        "for permutation in permutations:\n",
        "    print(permutation)\n"
      ],
      "metadata": {
        "id": "JE09IYlW2f6C"
      },
      "execution_count": null,
      "outputs": []
    },
    {
      "cell_type": "markdown",
      "source": [
        "**Ques 14**"
      ],
      "metadata": {
        "id": "qYCUgnBNzBwh"
      }
    },
    {
      "cell_type": "code",
      "source": [
        "def fibonacci_sequence(n):\n",
        "    sequence = [0, 1]  # Initialize the sequence with the first two terms\n",
        "\n",
        "    # Generate the Fibonacci sequence up to n terms\n",
        "    while len(sequence) < n:\n",
        "        next_term = sequence[-1] + sequence[-2]\n",
        "        sequence.append(next_term)\n",
        "\n",
        "    return sequence\n",
        "\n",
        "# Test the function\n",
        "input_terms = int(input(\"Enter the number of terms in the Fibonacci sequence: \"))\n",
        "fibonacci_seq = fibonacci_sequence(input_terms)\n",
        "print(\"Fibonacci sequence:\", fibonacci_seq)\n"
      ],
      "metadata": {
        "id": "5p1jR2ww2n8y"
      },
      "execution_count": null,
      "outputs": []
    },
    {
      "cell_type": "markdown",
      "source": [
        "**Ques 15**"
      ],
      "metadata": {
        "id": "hYAO87xzzByy"
      }
    },
    {
      "cell_type": "code",
      "source": [
        "def find_median(numbers):\n",
        "    numbers.sort()  # Sort the list in ascending order\n",
        "    n = len(numbers)\n",
        "    middle_index = n // 2\n",
        "\n",
        "    if n % 2 == 0:  # If the list has even length\n",
        "        median = (numbers[middle_index - 1] + numbers[middle_index]) / 2\n",
        "    else:  # If the list has odd length\n",
        "        median = numbers[middle_index]\n",
        "\n",
        "    return median\n",
        "\n",
        "# Test the function\n",
        "input_list = input(\"Enter a list of numbers (space-separated): \").split()\n",
        "input_list = [float(num) for num in input_list]\n",
        "median = find_median(input_list)\n",
        "print(\"Median:\", median)\n"
      ],
      "metadata": {
        "id": "FD9ixLGS2zUo"
      },
      "execution_count": null,
      "outputs": []
    },
    {
      "cell_type": "markdown",
      "source": [
        "**Ques 16**"
      ],
      "metadata": {
        "id": "e5NmDKuEzB0e"
      }
    },
    {
      "cell_type": "code",
      "source": [
        "def is_sorted(lst):\n",
        "    for i in range(len(lst) - 1):\n",
        "        if lst[i] > lst[i + 1]:\n",
        "            return False\n",
        "    return True\n",
        "\n",
        "# Test the function\n",
        "input_list = input(\"Enter a list of numbers (space-separated): \").split()\n",
        "input_list = [int(num) for num in input_list]\n",
        "if is_sorted(input_list):\n",
        "    print(\"The list is sorted in non-decreasing order.\")\n",
        "else:\n",
        "    print(\"The list is not sorted in non-decreasing order.\")\n"
      ],
      "metadata": {
        "id": "Bk3sXli02725"
      },
      "execution_count": null,
      "outputs": []
    },
    {
      "cell_type": "markdown",
      "source": [
        "**Ques 17**"
      ],
      "metadata": {
        "id": "C6s3xKdmzB2z"
      }
    },
    {
      "cell_type": "code",
      "source": [
        "def find_intersection(list1, list2):\n",
        "    set1 = set(list1)\n",
        "    set2 = set(list2)\n",
        "    intersection = set1.intersection(set2)\n",
        "    return list(intersection)\n",
        "\n",
        "# Test the function\n",
        "input_list1 = input(\"Enter the elements of the first list (space-separated): \").split()\n",
        "input_list2 = input(\"Enter the elements of the second list (space-separated): \").split()\n",
        "\n",
        "intersection = find_intersection(input_list1, input_list2)\n",
        "print(\"Intersection:\", intersection)\n"
      ],
      "metadata": {
        "id": "tlQjX-293Cuc"
      },
      "execution_count": null,
      "outputs": []
    },
    {
      "cell_type": "markdown",
      "source": [
        "**Ques 18**"
      ],
      "metadata": {
        "id": "i2aXkkm7zB6l"
      }
    },
    {
      "cell_type": "code",
      "source": [
        "def find_maximum_subarray_sum(lst):\n",
        "    if not lst:  # Check if the list is empty\n",
        "        return 0\n",
        "\n",
        "    max_sum = current_sum = lst[0]\n",
        "\n",
        "    for num in lst[1:]:\n",
        "        current_sum = max(num, current_sum + num)\n",
        "        max_sum = max(max_sum, current_sum)\n",
        "\n",
        "    return max_sum\n",
        "\n",
        "# Test the function\n",
        "input_list = input(\"Enter a list of numbers (space-separated): \").split()\n",
        "input_list = [int(num) for num in input_list]\n",
        "maximum_subarray_sum = find_maximum_subarray_sum(input_list)\n",
        "print(\"Maximum subarray sum:\", maximum_subarray_sum)\n"
      ],
      "metadata": {
        "id": "H5kazEDM3L_r"
      },
      "execution_count": null,
      "outputs": []
    },
    {
      "cell_type": "markdown",
      "source": [
        "**Ques 19**"
      ],
      "metadata": {
        "id": "_RnliEP4zB-m"
      }
    },
    {
      "cell_type": "code",
      "source": [
        "def remove_vowels(string):\n",
        "    vowels = 'aeiouAEIOU'\n",
        "    result = \"\"\n",
        "    for char in string:\n",
        "        if char not in vowels:\n",
        "            result += char\n",
        "    return result\n",
        "\n",
        "# Test the function\n",
        "input_string = input(\"Enter a string: \")\n",
        "string_without_vowels = remove_vowels(input_string)\n",
        "print(\"String without vowels:\", string_without_vowels)\n"
      ],
      "metadata": {
        "id": "w_Oed-2a3Ua6"
      },
      "execution_count": null,
      "outputs": []
    },
    {
      "cell_type": "markdown",
      "source": [
        "**Ques 20**"
      ],
      "metadata": {
        "id": "OJ1_B7X_zCBG"
      }
    },
    {
      "cell_type": "code",
      "source": [
        "def reverse_sentence(sentence):\n",
        "    words = sentence.split()\n",
        "    reversed_words = words[::-1]\n",
        "    reversed_sentence = \" \".join(reversed_words)\n",
        "    return reversed_sentence\n",
        "\n",
        "# Test the function\n",
        "input_sentence = input(\"Enter a sentence: \")\n",
        "reversed_sentence = reverse_sentence(input_sentence)\n",
        "print(\"Reversed sentence:\", reversed_sentence)\n"
      ],
      "metadata": {
        "id": "OaDDWiUn3ddi"
      },
      "execution_count": null,
      "outputs": []
    },
    {
      "cell_type": "markdown",
      "source": [
        "**Ques 21**"
      ],
      "metadata": {
        "id": "N4TH4qd1zCDn"
      }
    },
    {
      "cell_type": "code",
      "source": [
        "def are_anagrams(string1, string2):\n",
        "    # Remove any non-alphanumeric characters and convert to lowercase\n",
        "    string1 = ''.join(ch.lower() for ch in string1 if ch.isalnum())\n",
        "    string2 = ''.join(ch.lower() for ch in string2 if ch.isalnum())\n",
        "\n",
        "    # Check if the sorted characters of both strings are equal\n",
        "    return sorted(string1) == sorted(string2)\n",
        "\n",
        "# Test the function\n",
        "input_string1 = input(\"Enter the first string: \")\n",
        "input_string2 = input(\"Enter the second string: \")\n",
        "\n",
        "if are_anagrams(input_string1, input_string2):\n",
        "    print(\"The strings are anagrams.\")\n",
        "else:\n",
        "    print(\"The strings are not anagrams.\")\n"
      ],
      "metadata": {
        "id": "eDdEbi6Q3kgi"
      },
      "execution_count": null,
      "outputs": []
    },
    {
      "cell_type": "markdown",
      "source": [
        "**Ques 22**"
      ],
      "metadata": {
        "id": "lYMO9V-dzCFl"
      }
    },
    {
      "cell_type": "code",
      "source": [
        "def find_first_non_repeating_character(string):\n",
        "    char_count = {}\n",
        "\n",
        "    # Count the occurrences of each character\n",
        "    for char in string:\n",
        "        char_count[char] = char_count.get(char, 0) + 1\n",
        "\n",
        "    # Find the first character with count = 1\n",
        "    for char in string:\n",
        "        if char_count[char] == 1:\n",
        "            return char\n",
        "\n",
        "    return None  # Return None if there are no non-repeating characters\n",
        "\n",
        "# Test the function\n",
        "input_string = input(\"Enter a string: \")\n",
        "result = find_first_non_repeating_character(input_string)\n",
        "if result is not None:\n",
        "    print(\"First non-repeating character:\", result)\n",
        "else:\n",
        "    print(\"There are no non-repeating characters in the string.\")\n"
      ],
      "metadata": {
        "id": "jdyolzG53sUr"
      },
      "execution_count": null,
      "outputs": []
    },
    {
      "cell_type": "markdown",
      "source": [
        "**Ques 23**"
      ],
      "metadata": {
        "id": "hg7dK-FYzCIB"
      }
    },
    {
      "cell_type": "code",
      "source": [
        "def find_prime_factors(n):\n",
        "    prime_factors = []\n",
        "\n",
        "    # Divide the number by 2 until it is no longer divisible\n",
        "    while n % 2 == 0:\n",
        "        prime_factors.append(2)\n",
        "        n //= 2\n",
        "\n",
        "    # Check for prime factors starting from 3 up to the square root of n\n",
        "    i = 3\n",
        "    while i*i <= n:\n",
        "        while n % i == 0:\n",
        "            prime_factors.append(i)\n",
        "            n //= i\n",
        "        i += 2\n",
        "\n",
        "    # If n is prime and greater than 2, it is a prime factor\n",
        "    if n > 2:\n",
        "        prime_factors.append(n)\n",
        "\n",
        "    return prime_factors\n",
        "\n",
        "# Test the function\n",
        "input_number = int(input(\"Enter a number: \"))\n",
        "prime_factors = find_prime_factors(input_number)\n",
        "print(\"Prime factors:\", prime_factors)\n"
      ],
      "metadata": {
        "id": "heuSex1G4NsZ"
      },
      "execution_count": null,
      "outputs": []
    },
    {
      "cell_type": "markdown",
      "source": [
        "**Ques 24**"
      ],
      "metadata": {
        "id": "4rG9ddozzCPW"
      }
    },
    {
      "cell_type": "code",
      "source": [
        "def is_power_of_two(n):\n",
        "    if n <= 0:\n",
        "        return False\n",
        "\n",
        "    while n % 2 == 0:\n",
        "        n //= 2\n",
        "\n",
        "    return n == 1\n",
        "\n",
        "# Test the function\n",
        "input_number = int(input(\"Enter a number: \"))\n",
        "if is_power_of_two(input_number):\n",
        "    print(\"The number is a power of two.\")\n",
        "else:\n",
        "    print(\"The number is not a power of two.\")\n"
      ],
      "metadata": {
        "id": "bTFuXnep4YIp"
      },
      "execution_count": null,
      "outputs": []
    },
    {
      "cell_type": "markdown",
      "source": [
        "**Ques 25**"
      ],
      "metadata": {
        "id": "J_JlUnnOzCRY"
      }
    },
    {
      "cell_type": "code",
      "source": [
        "def merge_sorted_lists(list1, list2):\n",
        "    merged_list = []\n",
        "    i = j = 0\n",
        "\n",
        "    while i < len(list1) and j < len(list2):\n",
        "        if list1[i] <= list2[j]:\n",
        "            merged_list.append(list1[i])\n",
        "            i += 1\n",
        "        else:\n",
        "            merged_list.append(list2[j])\n",
        "            j += 1\n",
        "\n",
        "    # Add any remaining elements from list1 or list2\n",
        "    merged_list.extend(list1[i:])\n",
        "    merged_list.extend(list2[j:])\n",
        "\n",
        "    return merged_list\n",
        "\n",
        "# Test the function\n",
        "input_list1 = input(\"Enter the elements of the first sorted list (space-separated): \").split()\n",
        "input_list2 = input(\"Enter the elements of the second sorted list (space-separated): \").split()\n",
        "\n",
        "list1 = [int(num) for num in input_list1]\n",
        "list2 = [int(num) for num in input_list2]\n",
        "\n",
        "merged_list = merge_sorted_lists(list1, list2)\n",
        "print(\"Merged and sorted list:\", merged_list)\n"
      ],
      "metadata": {
        "id": "yKg-931f4nGT"
      },
      "execution_count": null,
      "outputs": []
    },
    {
      "cell_type": "markdown",
      "source": [
        "**Ques 26**"
      ],
      "metadata": {
        "id": "jC8oGgspzCTZ"
      }
    },
    {
      "cell_type": "code",
      "source": [
        "from collections import Counter\n",
        "\n",
        "def find_mode(numbers):\n",
        "    # Count the occurrences of each number\n",
        "    counter = Counter(numbers)\n",
        "\n",
        "    # Find the number(s) with the maximum count\n",
        "    max_count = max(counter.values())\n",
        "    mode = [num for num, count in counter.items() if count == max_count]\n",
        "\n",
        "    return mode\n",
        "\n",
        "# Test the function\n",
        "input_list = input(\"Enter a list of numbers (space-separated): \").split()\n",
        "input_list = [int(num) for num in input_list]\n",
        "mode = find_mode(input_list)\n",
        "print(\"Mode:\", mode)\n"
      ],
      "metadata": {
        "id": "B0kJCxVt4yq7"
      },
      "execution_count": null,
      "outputs": []
    },
    {
      "cell_type": "markdown",
      "source": [
        "**Ques 27**"
      ],
      "metadata": {
        "id": "KVe0_nFPzCcL"
      }
    },
    {
      "cell_type": "code",
      "source": [
        "def find_gcd(a, b):\n",
        "    while b != 0:\n",
        "        a, b = b, a % b\n",
        "    return a\n",
        "\n",
        "# Test the function\n",
        "input_a = int(input(\"Enter the first number: \"))\n",
        "input_b = int(input(\"Enter the second number: \"))\n",
        "\n",
        "gcd = find_gcd(input_a, input_b)\n",
        "print(\"Greatest Common Divisor (GCD):\", gcd)\n"
      ],
      "metadata": {
        "id": "VVQMUhfg47ya"
      },
      "execution_count": null,
      "outputs": []
    },
    {
      "cell_type": "markdown",
      "source": [
        "**Ques 28**"
      ],
      "metadata": {
        "id": "gYH6_iRTzCd5"
      }
    },
    {
      "cell_type": "code",
      "source": [
        "def square_root(n):\n",
        "    if n < 0:\n",
        "        raise ValueError(\"Square root is not defined for negative numbers.\")\n",
        "\n",
        "    if n == 0:\n",
        "        return 0\n",
        "\n",
        "    # Initial guess for the square root\n",
        "    x = n / 2\n",
        "\n",
        "    # Iterate until desired precision is reached\n",
        "    precision = 0.0001\n",
        "    while True:\n",
        "        next_x = 0.5 * (x + n / x)\n",
        "        if abs(x - next_x) < precision:\n",
        "            break\n",
        "        x = next_x\n",
        "\n",
        "    return next_x\n",
        "\n",
        "# Test the function\n",
        "input_number = float(input(\"Enter a number: \"))\n",
        "sqrt = square_root(input_number)\n",
        "print(\"Square root:\", sqrt)\n"
      ],
      "metadata": {
        "id": "PTCpTnC349-b"
      },
      "execution_count": null,
      "outputs": []
    },
    {
      "cell_type": "markdown",
      "source": [
        "**Ques 29**"
      ],
      "metadata": {
        "id": "WntlxSHI5HE_"
      }
    },
    {
      "cell_type": "code",
      "source": [
        "def is_valid_palindrome(string):\n",
        "    # Remove non-alphanumeric characters and convert to lowercase\n",
        "    alphanumeric_string = ''.join(ch.lower() for ch in string if ch.isalnum())\n",
        "\n",
        "    # Check if the alphanumeric string is a palindrome\n",
        "    return alphanumeric_string == alphanumeric_string[::-1]\n",
        "\n",
        "# Test the function\n",
        "input_string = input(\"Enter a string: \")\n",
        "if is_valid_palindrome(input_string):\n",
        "    print(\"The string is a valid palindrome.\")\n",
        "else:\n",
        "    print(\"The string is not a valid palindrome.\")\n"
      ],
      "metadata": {
        "id": "89AWF2mj5J3j"
      },
      "execution_count": null,
      "outputs": []
    },
    {
      "cell_type": "markdown",
      "source": [
        "**Ques 30**"
      ],
      "metadata": {
        "id": "fw94nWOf5HTp"
      }
    },
    {
      "cell_type": "code",
      "source": [
        "def find_minimum_rotated_sorted(nums):\n",
        "    left = 0\n",
        "    right = len(nums) - 1\n",
        "\n",
        "    while left < right:\n",
        "        mid = left + (right - left) // 2\n",
        "\n",
        "        if nums[mid] > nums[right]:\n",
        "            left = mid + 1\n",
        "        else:\n",
        "            right = mid\n",
        "\n",
        "    return nums[left]\n",
        "\n",
        "# Test the function\n",
        "input_list = input(\"Enter a rotated sorted list of numbers (space-separated): \").split()\n",
        "input_list = [int(num) for num in input_list]\n",
        "minimum_element = find_minimum_rotated_sorted(input_list)\n",
        "print(\"Minimum element:\", minimum_element)\n"
      ],
      "metadata": {
        "id": "j84STv5D5Sar"
      },
      "execution_count": null,
      "outputs": []
    },
    {
      "cell_type": "markdown",
      "source": [
        "**Ques 31**"
      ],
      "metadata": {
        "id": "wYEId4z45dgr"
      }
    },
    {
      "cell_type": "code",
      "source": [
        "def sum_even_numbers(numbers):\n",
        "    even_sum = 0\n",
        "    for num in numbers:\n",
        "        if num % 2 == 0:\n",
        "            even_sum += num\n",
        "    return even_sum\n",
        "\n",
        "# Test the function\n",
        "input_list = input(\"Enter a list of numbers (space-separated): \").split()\n",
        "input_list = [int(num) for num in input_list]\n",
        "sum_of_evens = sum_even_numbers(input_list)\n",
        "print(\"Sum of even numbers:\", sum_of_evens)\n"
      ],
      "metadata": {
        "id": "zxE3s1Ea6og6"
      },
      "execution_count": null,
      "outputs": []
    },
    {
      "cell_type": "markdown",
      "source": [
        "**Ques 32**"
      ],
      "metadata": {
        "id": "HqgZR2mL5dn3"
      }
    },
    {
      "cell_type": "code",
      "source": [
        "def power(base, exponent):\n",
        "    if exponent == 0:\n",
        "        return 1\n",
        "    elif exponent < 0:\n",
        "        return 1 / power(base, -exponent)\n",
        "    else:\n",
        "        return base * power(base, exponent - 1)\n",
        "\n",
        "# Test the function\n",
        "input_base = float(input(\"Enter the base number: \"))\n",
        "input_exponent = int(input(\"Enter the exponent: \"))\n",
        "\n",
        "result = power(input_base, input_exponent)\n",
        "print(\"Result:\", result)\n"
      ],
      "metadata": {
        "id": "-ec8hnT66xSR"
      },
      "execution_count": null,
      "outputs": []
    },
    {
      "cell_type": "markdown",
      "source": [
        "**Ques 33**"
      ],
      "metadata": {
        "id": "hb-IMH9-5dsM"
      }
    },
    {
      "cell_type": "code",
      "source": [
        "def remove_duplicates(lst):\n",
        "    seen = set()\n",
        "    result = []\n",
        "    for item in lst:\n",
        "        if item not in seen:\n",
        "            seen.add(item)\n",
        "            result.append(item)\n",
        "    return result\n",
        "\n",
        "# Test the function\n",
        "input_list = input(\"Enter a list of elements (space-separated): \").split()\n",
        "unique_list = remove_duplicates(input_list)\n",
        "print(\"List with duplicates removed:\", unique_list)\n"
      ],
      "metadata": {
        "id": "0iNnZ0xc65hC"
      },
      "execution_count": null,
      "outputs": []
    },
    {
      "cell_type": "markdown",
      "source": [
        "**Ques 34**"
      ],
      "metadata": {
        "id": "8NEWCN_U5d5z"
      }
    },
    {
      "cell_type": "code",
      "source": [
        "def find_longest_common_prefix(strings):\n",
        "    if not strings:\n",
        "        return \"\"\n",
        "\n",
        "    prefix = strings[0]\n",
        "\n",
        "    for string in strings[1:]:\n",
        "        while not string.startswith(prefix):\n",
        "            prefix = prefix[:-1]\n",
        "            if not prefix:\n",
        "                return \"\"\n",
        "\n",
        "    return prefix\n",
        "\n",
        "# Test the function\n",
        "input_list = input(\"Enter a list of strings (space-separated): \").split()\n",
        "longest_common_prefix = find_longest_common_prefix(input_list)\n",
        "print(\"Longest common prefix:\", longest_common_prefix)\n"
      ],
      "metadata": {
        "id": "U93lHEzb7CVC"
      },
      "execution_count": null,
      "outputs": []
    },
    {
      "cell_type": "markdown",
      "source": [
        "**Ques 35**"
      ],
      "metadata": {
        "id": "CuBTyoHT5eAI"
      }
    },
    {
      "cell_type": "code",
      "source": [
        "def is_perfect_square(num):\n",
        "    if num < 0:\n",
        "        return False\n",
        "\n",
        "    if num == 0:\n",
        "        return True\n",
        "\n",
        "    # Perform a binary search to find the square root of num\n",
        "    left = 1\n",
        "    right = num\n",
        "\n",
        "    while left <= right:\n",
        "        mid = left + (right - left) // 2\n",
        "        square = mid * mid\n",
        "\n",
        "        if square == num:\n",
        "            return True\n",
        "        elif square < num:\n",
        "            left = mid + 1\n",
        "        else:\n",
        "            right = mid - 1\n",
        "\n",
        "    return False\n",
        "\n",
        "# Test the function\n",
        "input_number = int(input(\"Enter a number: \"))\n",
        "if is_perfect_square(input_number):\n",
        "    print(\"The number is a perfect square.\")\n",
        "else:\n",
        "    print(\"The number is not a perfect square.\")\n"
      ],
      "metadata": {
        "id": "DIf_M2IK7RYC"
      },
      "execution_count": null,
      "outputs": []
    },
    {
      "cell_type": "markdown",
      "source": [
        "**Ques 36**"
      ],
      "metadata": {
        "id": "wYbhsR2B5eGP"
      }
    },
    {
      "cell_type": "code",
      "source": [
        "def calculate_product(numbers):\n",
        "    product = 1\n",
        "    for num in numbers:\n",
        "        product *= num\n",
        "    return product\n",
        "\n",
        "# Test the function\n",
        "input_list = input(\"Enter a list of numbers (space-separated): \").split()\n",
        "input_list = [int(num) for num in input_list]\n",
        "product = calculate_product(input_list)\n",
        "print(\"Product of all elements:\", product)\n"
      ],
      "metadata": {
        "id": "GEO0_8Ca7cqa"
      },
      "execution_count": null,
      "outputs": []
    },
    {
      "cell_type": "markdown",
      "source": [
        "**Ques 37**"
      ],
      "metadata": {
        "id": "xUo1ckH_5eOx"
      }
    },
    {
      "cell_type": "code",
      "source": [
        "def reverse_words(sentence):\n",
        "    words = sentence.split()\n",
        "    reversed_sentence = ' '.join(words[::-1])\n",
        "    return reversed_sentence\n",
        "\n",
        "# Test the function\n",
        "input_sentence = input(\"Enter a sentence: \")\n",
        "reversed_sentence = reverse_words(input_sentence)\n",
        "print(\"Reversed sentence:\", reversed_sentence)\n"
      ],
      "metadata": {
        "id": "pJIVNpuT7j3R"
      },
      "execution_count": null,
      "outputs": []
    },
    {
      "cell_type": "markdown",
      "source": [
        "**Ques 38**"
      ],
      "metadata": {
        "id": "HmAl1dws5eWN"
      }
    },
    {
      "cell_type": "code",
      "source": [
        "def find_missing_number(numbers):\n",
        "    n = len(numbers) + 1\n",
        "    expected_sum = (n * (n + 1)) // 2\n",
        "    actual_sum = sum(numbers)\n",
        "    missing_number = expected_sum - actual_sum\n",
        "    return missing_number\n",
        "\n",
        "# Test the function\n",
        "input_list = input(\"Enter a list of consecutive numbers (space-separated): \").split()\n",
        "input_list = [int(num) for num in input_list]\n",
        "missing_number = find_missing_number(input_list)\n",
        "print(\"Missing number:\", missing_number)\n"
      ],
      "metadata": {
        "id": "sMRLfQHH7rXi"
      },
      "execution_count": null,
      "outputs": []
    },
    {
      "cell_type": "markdown",
      "source": [
        "**Ques 39**"
      ],
      "metadata": {
        "id": "hOdV_75-5eck"
      }
    },
    {
      "cell_type": "code",
      "source": [
        "def sum_of_digits(number):\n",
        "    sum_digits = 0\n",
        "    while number > 0:\n",
        "        digit = number % 10\n",
        "        sum_digits += digit\n",
        "        number //= 10\n",
        "    return sum_digits\n",
        "\n",
        "# Test the function\n",
        "input_number = int(input(\"Enter a number: \"))\n",
        "sum_digits = sum_of_digits(input_number)\n",
        "print(\"Sum of digits:\", sum_digits)\n"
      ],
      "metadata": {
        "id": "83xf4hpv7ytL"
      },
      "execution_count": null,
      "outputs": []
    },
    {
      "cell_type": "markdown",
      "source": [
        "**Ques 40**"
      ],
      "metadata": {
        "id": "Si7Nq_gV78T3"
      }
    },
    {
      "cell_type": "code",
      "source": [
        "def is_valid_palindrome(string):\n",
        "    # Remove non-alphanumeric characters and convert to lowercase\n",
        "    alphanumeric_string = ''.join(ch.lower() for ch in string if ch.isalnum())\n",
        "\n",
        "    # Check if the alphanumeric string is a palindrome\n",
        "    return alphanumeric_string == alphanumeric_string[::-1]\n",
        "\n",
        "# Test the function\n",
        "input_string = input(\"Enter a string: \")\n",
        "if is_valid_palindrome(input_string):\n",
        "    print(\"The string is a valid palindrome.\")\n",
        "else:\n",
        "    print(\"The string is not a valid palindrome.\")\n"
      ],
      "metadata": {
        "id": "OxyfYydX8Qts"
      },
      "execution_count": null,
      "outputs": []
    },
    {
      "cell_type": "markdown",
      "source": [
        "**Ques 41**"
      ],
      "metadata": {
        "id": "d86S14PJ8Aa2"
      }
    },
    {
      "cell_type": "code",
      "source": [
        "def find_smallest_missing_positive(numbers):\n",
        "    n = len(numbers)\n",
        "\n",
        "    # Step 1: Move positive integers to their respective positions\n",
        "    for i in range(n):\n",
        "        while 1 <= numbers[i] <= n and numbers[numbers[i] - 1] != numbers[i]:\n",
        "            numbers[numbers[i] - 1], numbers[i] = numbers[i], numbers[numbers[i] - 1]\n",
        "\n",
        "    # Step 2: Find the first missing positive integer\n",
        "    for i in range(n):\n",
        "        if numbers[i] != i + 1:\n",
        "            return i + 1\n",
        "\n",
        "    # Step 3: If all positive integers are present, return n + 1\n",
        "    return n + 1\n",
        "\n",
        "# Test the function\n",
        "input_list = input(\"Enter a list of integers (space-separated): \").split()\n",
        "input_list = [int(num) for num in input_list]\n",
        "smallest_missing = find_smallest_missing_positive(input_list)\n",
        "print(\"Smallest missing positive integer:\", smallest_missing)\n"
      ],
      "metadata": {
        "id": "z-VTN4_n8Snq"
      },
      "execution_count": null,
      "outputs": []
    },
    {
      "cell_type": "markdown",
      "source": [
        "**Ques 42**"
      ],
      "metadata": {
        "id": "j8jozyKv8Ai9"
      }
    },
    {
      "cell_type": "code",
      "source": [
        "def longest_palindrome_substring(string):\n",
        "    n = len(string)\n",
        "    max_length = 0\n",
        "    start = 0\n",
        "\n",
        "    # Function to expand around the center of a palindrome\n",
        "    def expand_around_center(left, right):\n",
        "        nonlocal max_length, start\n",
        "        while left >= 0 and right < n and string[left] == string[right]:\n",
        "            left -= 1\n",
        "            right += 1\n",
        "\n",
        "        current_length = right - left - 1\n",
        "        if current_length > max_length:\n",
        "            max_length = current_length\n",
        "            start = left + 1\n",
        "\n",
        "    # Iterate through each character as a potential center of palindrome\n",
        "    for i in range(n):\n",
        "        expand_around_center(i, i)  # Odd length palindrome\n",
        "        expand_around_center(i, i + 1)  # Even length palindrome\n",
        "\n",
        "    return string[start:start + max_length]\n",
        "\n",
        "# Test the function\n",
        "input_string = input(\"Enter a string: \")\n",
        "longest_palindrome = longest_palindrome_substring(input_string)\n",
        "print(\"Longest palindrome substring:\", longest_palindrome)\n"
      ],
      "metadata": {
        "id": "TlXw7vuL8b2D"
      },
      "execution_count": null,
      "outputs": []
    },
    {
      "cell_type": "markdown",
      "source": [
        "**Ques 43**"
      ],
      "metadata": {
        "id": "Fojlk_WY8Aua"
      }
    },
    {
      "cell_type": "code",
      "source": [
        "def count_occurrences(lst, element):\n",
        "    count = 0\n",
        "    for item in lst:\n",
        "        if item == element:\n",
        "            count += 1\n",
        "    return count\n",
        "\n",
        "# Test the function\n",
        "input_list = input(\"Enter a list of elements (space-separated): \").split()\n",
        "element = input(\"Enter the element to count: \")\n",
        "occurrences = count_occurrences(input_list, element)\n",
        "print(\"Number of occurrences:\", occurrences)\n"
      ],
      "metadata": {
        "id": "kPYs6yNu8nRS"
      },
      "execution_count": null,
      "outputs": []
    },
    {
      "cell_type": "markdown",
      "source": [
        "**Ques 44**"
      ],
      "metadata": {
        "id": "M1vWjY5b8A2D"
      }
    },
    {
      "cell_type": "code",
      "source": [
        "def is_perfect_number(number):\n",
        "    if number <= 0:\n",
        "        return False\n",
        "\n",
        "    divisor_sum = 0\n",
        "    for i in range(1, number):\n",
        "        if number % i == 0:\n",
        "            divisor_sum += i\n",
        "\n",
        "    return divisor_sum == number\n",
        "\n",
        "# Test the function\n",
        "input_number = int(input(\"Enter a number: \"))\n",
        "if is_perfect_number(input_number):\n",
        "    print(\"The number is a perfect number.\")\n",
        "else:\n",
        "    print(\"The number is not a perfect number.\")\n"
      ],
      "metadata": {
        "id": "6n0QvsWP8wmT"
      },
      "execution_count": null,
      "outputs": []
    },
    {
      "cell_type": "markdown",
      "source": [
        "**Ques 45**"
      ],
      "metadata": {
        "id": "EEJbeo4J8A9Y"
      }
    },
    {
      "cell_type": "code",
      "source": [
        "def remove_duplicates(string):\n",
        "    unique_chars = []\n",
        "    for char in string:\n",
        "        if char not in unique_chars:\n",
        "            unique_chars.append(char)\n",
        "    return ''.join(unique_chars)\n",
        "\n",
        "# Test the function\n",
        "input_string = input(\"Enter a string: \")\n",
        "string_without_duplicates = remove_duplicates(input_string)\n",
        "print(\"String without duplicates:\", string_without_duplicates)\n"
      ],
      "metadata": {
        "id": "zitBuBcX88wq"
      },
      "execution_count": null,
      "outputs": []
    },
    {
      "cell_type": "markdown",
      "source": [
        "**Ques 46**"
      ],
      "metadata": {
        "id": "AS3piBnQ8BE3"
      }
    },
    {
      "cell_type": "code",
      "source": [
        "def find_first_missing_positive(nums):\n",
        "    n = len(nums)\n",
        "\n",
        "    # Step 1: Move positive integers to their respective positions\n",
        "    for i in range(n):\n",
        "        while 1 <= nums[i] <= n and nums[nums[i] - 1] != nums[i]:\n",
        "            nums[nums[i] - 1], nums[i] = nums[i], nums[nums[i] - 1]\n",
        "\n",
        "    # Step 2: Find the first missing positive integer\n",
        "    for i in range(n):\n",
        "        if nums[i] != i + 1:\n",
        "            return i + 1\n",
        "\n",
        "    # Step 3: If all positive integers are present, return n + 1\n",
        "    return n + 1\n",
        "\n",
        "# Test the function\n",
        "input_list = input(\"Enter a list of integers (space-separated): \").split()\n",
        "input_list = [int(num) for num in input_list]\n",
        "first_missing = find_first_missing_positive(input_list)\n",
        "print(\"First missing positive integer:\", first_missing)\n"
      ],
      "metadata": {
        "id": "Ag47NpNc8-aj"
      },
      "execution_count": null,
      "outputs": []
    },
    {
      "cell_type": "markdown",
      "source": [
        "# Questions"
      ],
      "metadata": {
        "id": "SPF6SPNj9UlC"
      }
    },
    {
      "cell_type": "markdown",
      "source": [
        "\n",
        "1. Write a Python program to reverse a string without using any built-in string reversal functions.\n",
        "2. Implement a function to check if a given string is a palindrome.\n",
        "3. Write a program to find the largest element in a given list.\n",
        "4. Implement a function to count the occurrence of each element in a list.\n",
        "5. Write a Python program to find the second largest number in a list.\n",
        "6. Implement a function to remove duplicate elements from a list.\n",
        "7. Write a program to calculate the factorial of a given number.\n",
        "8. Implement a function to check if a given number is prime.\n",
        "9. Write a Python program to sort a list of integers in ascending order.\n",
        "10. Implement a function to find the sum of all numbers in a list.\n",
        "11. Write a program to find the common elements between two lists.\n",
        "12. Implement a function to check if a given string is an anagram of another string.\n",
        "13. Write a Python program to generate all permutations of a given string.\n",
        "14. Implement a function to calculate the Fibonacci sequence up to a given number of terms.\n",
        "15. Write a program to find the median of a list of numbers.\n",
        "16. Implement a function to check if a given list is sorted in non-decreasing order.\n",
        "17. Write a Python program to find the intersection of two lists.\n",
        "18. Implement a function to find the maximum subarray sum in a given list.\n",
        "19. Write a program to remove all vowels from a given string.\n",
        "20. Implement a function to reverse the order of words in a given sentence.\n",
        "21. Write a Python program to check if two strings are anagrams of each other.\n",
        "22. Implement a function to find the first non-repeating character in a string.\n",
        "23. Write a program to find the prime factors of a given number.\n",
        "24. Implement a function to check if a given number is a power of two.\n",
        "25. Write a Python program to merge two sorted lists into a single sorted list.\n",
        "26. Implement a function to find the mode of a list of numbers.\n",
        "27. Write a program to find the greatest common divisor (GCD) of two numbers.\n",
        "28. Implement a function to calculate the square root of a given number.\n",
        "29. Write a Python program to check if a given string is a valid palindrome ignoring non-alphanumeric characters.\n",
        "30. Implement a function to find the minimum element in a rotated sorted list.\n",
        "31. Write a program to find the sum of all even numbers in a list.\n",
        "32. Implement a function to calculate the power of a number using recursion.\n",
        "33. Write a Python program to remove duplicates from a list while preserving the order.\n",
        "34. Implement a function to find the longest common prefix among a list of strings.\n",
        "35. Write a program to check if a given number is a perfect square.\n",
        "36. Implement a function to calculate the product of all elements in a list.\n",
        "37. Write a Python program to reverse the order of words in a sentence while preserving the word order.\n",
        "38. Implement a function to find the missing number in a given list of consecutive numbers.\n",
        "39. Write a program to find the sum of digits of a given number.\n",
        "40. Implement a function to check if a given string is a valid palindrome considering case sensitivity.\n",
        "41. Write a Python program to find the smallest missing positive integer in a list.\n",
        "42. Implement a function to find the longest palindrome substring in a given string.\n",
        "43. Write a program to find the number of occurrences of a given element in a list.\n",
        "44. Implement a function to check if a given number is a perfect number.\n",
        "45. Write a Python program to remove all duplicates from a string.\n",
        "46. Implement a function to find the first missing positive\n"
      ],
      "metadata": {
        "id": "tzVd9L7q9POy"
      }
    }
  ]
}